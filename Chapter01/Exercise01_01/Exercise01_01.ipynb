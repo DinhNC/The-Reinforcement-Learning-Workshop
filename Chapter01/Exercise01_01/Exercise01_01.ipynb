{
 "cells": [
  {
   "cell_type": "markdown",
   "metadata": {},
   "source": [
    "# Toy Environment\n",
    "\n",
    "![toy-mdp](../pictures/toy-mdp.png)\n",
    "\n",
    "In this exercise we will learn how to implement a simple Toy environment using Python. The environment is illustrated in figure. It is composed of 3 states and 2 actions. The initial state is state 1.\n",
    "The goal of this exercise is to implement a class Environment with a method step() taking as input the agent’s action and returning the pair (next state, reward). The environment can be implemented using pure python. In addition, write also a reset() method that restarts the environment state."
   ]
  },
  {
   "cell_type": "code",
   "execution_count": 1,
   "metadata": {},
   "outputs": [],
   "source": [
    "from typing import Tuple"
   ]
  },
  {
   "cell_type": "code",
   "execution_count": 2,
   "metadata": {},
   "outputs": [],
   "source": [
    "class Environment:\n",
    "    def __init__(self):\n",
    "        \"\"\"\n",
    "        Constructor of the Environment class.\n",
    "        \"\"\"\n",
    "        self._initial_state = 1\n",
    "        self.allowed_actions = [0, 1] # 0: A, 1: B\n",
    "        self.states = [1, 2, 3]\n",
    "        self.current_state = self._initial_state\n",
    "\n",
    "    def step(self, action: int) -> Tuple[int, int]:\n",
    "        \"\"\"\n",
    "        Step function: compute the one-step dynamic from the given action.\n",
    "        \n",
    "        Args:\n",
    "            action (int): the action taken by the agent.\n",
    "        \n",
    "        Returns:\n",
    "            The tuple current_state, reward.\n",
    "        \"\"\"\n",
    "        \n",
    "        # check if the action is allowed\n",
    "        if action not in self.allowed_actions:\n",
    "            raise ValueError(\"Action is not allowed\")\n",
    "        \n",
    "        reward = 0\n",
    "        if action == 0 and self.current_state == 1:\n",
    "            self.current_state = 2\n",
    "            reward = 1\n",
    "        elif action == 1 and self.current_state == 1:\n",
    "            self.current_state = 3\n",
    "            reward = 10\n",
    "        elif action == 0 and self.current_state == 2:\n",
    "            self.current_state = 1\n",
    "            reward = 0\n",
    "        elif action == 1 and self.current_state == 2:\n",
    "            self.current_state = 3\n",
    "            reward = 1\n",
    "        elif action == 0 and self.current_state == 3:\n",
    "            self.current_state = 2\n",
    "            reward = 0\n",
    "        elif action == 1 and self.current_state == 3:\n",
    "            self.current_state = 3\n",
    "            reward = 10\n",
    "        \n",
    "        return self.current_state, reward\n",
    "    \n",
    "    def reset(self) -> int:\n",
    "        \"\"\"\n",
    "        Reset the environment starting from the initial state.\n",
    "        \n",
    "        Returns:\n",
    "            The environment state after reset (initial state).\n",
    "        \"\"\"\n",
    "        self.current_state = self._initial_state\n",
    "        return self.current_state"
   ]
  }
 ],
 "metadata": {
  "kernelspec": {
   "display_name": "Python 3",
   "language": "python",
   "name": "python3"
  },
  "language_info": {
   "codemirror_mode": {
    "name": "ipython",
    "version": 3
   },
   "file_extension": ".py",
   "mimetype": "text/x-python",
   "name": "python",
   "nbconvert_exporter": "python",
   "pygments_lexer": "ipython3",
   "version": "3.6.8"
  }
 },
 "nbformat": 4,
 "nbformat_minor": 4
}
