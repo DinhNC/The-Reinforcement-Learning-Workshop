{
 "cells": [
  {
   "cell_type": "markdown",
   "metadata": {},
   "source": [
    "# Exercise 01.02\n",
    "\n",
    "Write the presented parameterizations in the case of a state composed by n components. In the first case the features can be represented by the identity function, in the second case the features are represented by a polynomial function of order 2. Use Numpy to implement all the requested policies. "
   ]
  },
  {
   "cell_type": "markdown",
   "metadata": {},
   "source": [
    "### Imports"
   ]
  },
  {
   "cell_type": "code",
   "execution_count": 10,
   "metadata": {},
   "outputs": [],
   "source": [
    "from typing import Callable, List\n",
    "\n",
    "import matplotlib\n",
    "from matplotlib import pyplot as plt\n",
    "\n",
    "import numpy as np\n",
    "import scipy.stats"
   ]
  },
  {
   "cell_type": "markdown",
   "metadata": {},
   "source": [
    "## Linear\n",
    "\n",
    "$$\n",
    "\\pi(s) = \\theta^T \\phi(s)\n",
    "$$"
   ]
  },
  {
   "cell_type": "code",
   "execution_count": 11,
   "metadata": {},
   "outputs": [],
   "source": [
    "class LinearPolicy:\n",
    "    def __init__(self, parameters: np.ndarray, features: Callable[[np.ndarray], np.ndarray]):\n",
    "        \"\"\"\n",
    "        Linear Policy Constructor.\n",
    "        \n",
    "        Args:\n",
    "            parameters (np.ndarray): policy parameters as np.ndarray.\n",
    "            features (np.ndarray): features to be extracted from the state representation.\n",
    "        \"\"\"\n",
    "        self._parameters = parameters\n",
    "        self._features = features\n",
    "    \n",
    "    def __call__(self, state: np.ndarray) -> np.ndarray:\n",
    "        \"\"\"\n",
    "        Call method of the Policy.\n",
    "        \n",
    "        Args:\n",
    "            state (np.ndarray): environment state.\n",
    "        \n",
    "        Returns:\n",
    "            The resulting action.\n",
    "        \"\"\"\n",
    "        \n",
    "        # calculate state features\n",
    "        state_features = self._features(state)\n",
    "        \n",
    "        # the parameters shape [0] should be the same as the state features\n",
    "        # as they must be multiplied\n",
    "        assert state_features.shape[0] == self._parameters.shape[0]\n",
    "        \n",
    "        # dot product between parameters and state features\n",
    "        return np.dot(self._parameters.T, state_features)"
   ]
  },
  {
   "cell_type": "markdown",
   "metadata": {},
   "source": [
    "Let's try the defined policy in the case of state composed by a 5 dimensional array.\n",
    "Sample a random set of parameters and a random state vector."
   ]
  },
  {
   "cell_type": "code",
   "execution_count": 12,
   "metadata": {},
   "outputs": [
    {
     "name": "stdout",
     "output_type": "stream",
     "text": [
      "[[1.48515891]]\n"
     ]
    }
   ],
   "source": [
    "# sample a random set of parameters\n",
    "parameters = np.random.rand(5, 1)\n",
    "\n",
    "# define the state features as identity function\n",
    "features = lambda x: x\n",
    "\n",
    "# define the policy\n",
    "pi: LinearPolicy = LinearPolicy(parameters, features)\n",
    "    \n",
    "# sample a state\n",
    "state = np.random.rand(5, 1)\n",
    "\n",
    "# Call the policy obtaining the action\n",
    "action = pi(state)\n",
    "\n",
    "print(action)"
   ]
  },
  {
   "cell_type": "markdown",
   "metadata": {},
   "source": [
    "## Gaussian Policy\n",
    "\n",
    "$$\n",
    "\\pi(a | s, \\theta) = \\frac{1}{ \\sqrt{2 \\pi \\sigma_\\theta(\\phi(s))^2}} e^{-\\frac{(x-\\mu_{\\theta}(\\phi(s)))^2}{2  \\sigma_\\theta(\\phi(s))^2}}\n",
    "$$"
   ]
  },
  {
   "cell_type": "code",
   "execution_count": 13,
   "metadata": {},
   "outputs": [],
   "source": [
    "class GaussianPolicy:\n",
    "    def __init__(self, mu_parameters: np.ndarray, sigma_parameters: np.ndarray, features: Callable[[np.ndarray], np.ndarray]):\n",
    "        \"\"\"\n",
    "        Linear Policy Constructor.\n",
    "        \n",
    "        Args:\n",
    "            mu_parameters (np.ndarray): policy parameters of the mean (\\mu) as np.ndarray.\n",
    "            sigma_parameters (np.ndarray): policy parameters of the standard deviation as np.ndarray.\n",
    "            features (np.ndarray): features to be extracted from the state representation.\n",
    "        \"\"\"\n",
    "        self._mu_parameters = mu_parameters\n",
    "        self._sigma_parameters = sigma_parameters\n",
    "        self._features = features\n",
    "    \n",
    "    def __call__(self, state: np.ndarray) -> np.ndarray:\n",
    "        \"\"\"\n",
    "        Call method of the Policy.\n",
    "        \n",
    "        Args:\n",
    "            state (np.ndarray): environment state.\n",
    "        \n",
    "        Returns:\n",
    "            The action sampled from the policy distribution.\n",
    "        \"\"\"\n",
    "        \n",
    "        # calculate state features\n",
    "        state_features = self._features(state)\n",
    "        \n",
    "        # the parameters shape [0] should be the same as the state features\n",
    "        # as they must be multiplied\n",
    "        assert state_features.shape[0] == self._mu_parameters.shape[0]\n",
    "        assert state_features.shape[0] == self._sigma_parameters.shape[0]\n",
    "        \n",
    "        # dot product between parameters and state features\n",
    "        # \\mu is the mean of the gaussian\n",
    "        mu = np.dot(self._mu_parameters.T, state_features)\n",
    "        # the stddev (sigma) should be squared to avoid negative numbers\n",
    "        sigma = np.dot(self._sigma_parameters.T, state_features) ** 2\n",
    "        \n",
    "        # sample action from gaussian distribution\n",
    "        action = np.random.normal(mu, sigma)\n",
    "        \n",
    "        return action\n",
    "    \n",
    "    def mu(self, state: np.ndarray) -> np.ndarray:\n",
    "        \"\"\"\n",
    "        Mean of the distribution in the current state.\n",
    "        \n",
    "        Args:\n",
    "            state (np.ndarray): environment state.\n",
    "        \n",
    "        Returns:\n",
    "            mu: mean of the Gaussian distribution.\n",
    "        \"\"\"\n",
    "        # calculate state features\n",
    "        state_features = self._features(state)\n",
    "        \n",
    "        # the parameters shape [0] should be the same as the state features\n",
    "        # as they must be multiplied\n",
    "        assert state_features.shape[0] == self._mu_parameters.shape[0]\n",
    "        \n",
    "        return np.dot(self._mu_parameters.T, state_features)\n",
    "    \n",
    "    def sigma(self, state: np.ndarray) -> np.ndarray:\n",
    "        \"\"\"\n",
    "        Stddev of the distribution in the current state.\n",
    "        \n",
    "        Args:\n",
    "            state (np.ndarray): environment state.\n",
    "            \n",
    "        Returns:\n",
    "            sigma: stddev of the Gaussian distribution.\n",
    "        \"\"\"\n",
    "        # calculate state features\n",
    "        state_features = self._features(state)\n",
    "        \n",
    "        # the parameters shape [0] should be the same as the state features\n",
    "        # as they must be multiplied\n",
    "        assert state_features.shape[0] == self._sigma_parameters.shape[0]\n",
    "        \n",
    "        return np.dot(self._sigma_parameters.T, state_features)"
   ]
  },
  {
   "cell_type": "markdown",
   "metadata": {},
   "source": [
    "Let's try the defined policy in the case of state composed by a 5 dimensional array.\n",
    "Sample a random set of parameters and a random state vector."
   ]
  },
  {
   "cell_type": "code",
   "execution_count": 14,
   "metadata": {},
   "outputs": [
    {
     "name": "stdout",
     "output_type": "stream",
     "text": [
      "[[2.1072412]]\n"
     ]
    }
   ],
   "source": [
    "# sample a random set of parameters\n",
    "mu_parameters = np.random.rand(5, 1)\n",
    "sigma_parameters = np.random.rand(5, 1)\n",
    "\n",
    "# define the state features as identity function\n",
    "features = lambda x: x\n",
    "\n",
    "# define the policy\n",
    "pi: GaussianPolicy = GaussianPolicy(mu_parameters, sigma_parameters, features)\n",
    "    \n",
    "# sample a state\n",
    "state = np.random.rand(5, 1)\n",
    "\n",
    "# Call the policy obtaining the action\n",
    "action = pi(state)\n",
    "\n",
    "print(action)"
   ]
  },
  {
   "cell_type": "markdown",
   "metadata": {},
   "source": [
    "Let's understand better the current policy.\n",
    "Plot the resulting distribution defined by the current state and parameters."
   ]
  },
  {
   "cell_type": "code",
   "execution_count": 15,
   "metadata": {},
   "outputs": [],
   "source": [
    "%matplotlib inline"
   ]
  },
  {
   "cell_type": "code",
   "execution_count": 16,
   "metadata": {},
   "outputs": [
    {
     "data": {
      "text/plain": [
       "[<matplotlib.lines.Line2D at 0x1174e2550>]"
      ]
     },
     "execution_count": 16,
     "metadata": {},
     "output_type": "execute_result"
    },
    {
     "data": {
      "image/png": "[encoded data removed]",
      "text/plain": [
       "<Figure size 432x288 with 1 Axes>"
      ]
     },
     "metadata": {
      "needs_background": "light"
     },
     "output_type": "display_data"
    }
   ],
   "source": [
    "n_samples = 100\n",
    "\n",
    "samples = []\n",
    "\n",
    "# sample action from the policy and append them to the samples array\n",
    "for _ in range(n_samples):\n",
    "    samples.append(pi(state).flatten()[0])\n",
    "\n",
    "# reduce the plot size\n",
    "plt.ylim(-1e-3, 0.5)\n",
    "# plot the samples on the x axis\n",
    "plt.scatter(samples, np.zeros_like(samples))    \n",
    "\n",
    "# plot the distribution\n",
    "mu = pi.mu(state).flatten()[0]\n",
    "sigma = pi.sigma(state).flatten()[0]\n",
    "x = np.linspace(mu - 3*sigma, mu + 3*sigma, 100)\n",
    "plt.plot(x, scipy.stats.norm.pdf(x, mu, sigma))"
   ]
  },
  {
   "cell_type": "markdown",
   "metadata": {},
   "source": [
    "As we can see the samples follow the probability density function of the gaussian distributions.\n",
    "Samples are concentrated in the mean of the distribution."
   ]
  },
  {
   "cell_type": "markdown",
   "metadata": {},
   "source": [
    "## Boltzmann Policy\n",
    "\n",
    "$$\n",
    "\\pi(a_i | s) = \\frac{e^{\\theta_i^T \\phi(s)}}{\\sum_j e^{\\theta_j^T \\phi(s)}}\n",
    "$$"
   ]
  },
  {
   "cell_type": "code",
   "execution_count": 17,
   "metadata": {},
   "outputs": [],
   "source": [
    "class BoltzmannPolicy:\n",
    "    def __init__(self, parameters: List[np.ndarray], features: Callable[[np.ndarray], np.ndarray]):\n",
    "        \"\"\"\n",
    "        Linear Policy Constructor.\n",
    "        \n",
    "        Args:\n",
    "            parameters (List[np.ndarray]): policy parameters for each action as np.ndarray.\n",
    "            features (np.ndarray): features to be extracted from the state representation.\n",
    "        \"\"\"\n",
    "        self._parameters = parameters\n",
    "        self._features = features\n",
    "        self._n_actions = len(self._parameters)\n",
    "    \n",
    "    def __call__(self, state: np.ndarray) -> np.ndarray:\n",
    "        \"\"\"\n",
    "        Call method of the Policy.\n",
    "        \n",
    "        Args:\n",
    "            state (np.ndarray): environment state.\n",
    "            \n",
    "        Returns:\n",
    "            action: Action sampled from the action probabilities.\n",
    "        \"\"\"\n",
    "        \n",
    "        # calculate state features\n",
    "        state_features = self._features(state)\n",
    "        \n",
    "        # the parameters shape [0] should be the same as the state features\n",
    "        # as they must be multiplied\n",
    "        for action_params in self._parameters:\n",
    "            assert state_features.shape[0] == action_params.shape[0]\n",
    "        \n",
    "        # calculate scores for each action\n",
    "        scores = []\n",
    "        for action_params in self._parameters:\n",
    "            score = np.dot(action_params.T, state_features)[0, 0]\n",
    "            scores.append(score)\n",
    "        \n",
    "        # use scipy softmax function\n",
    "        action_probs = scipy.special.softmax(scores)\n",
    "        \n",
    "        # sample the action according to the probabilities\n",
    "        action = np.random.choice(self._n_actions, p=action_probs)\n",
    "        \n",
    "        return action"
   ]
  },
  {
   "cell_type": "markdown",
   "metadata": {},
   "source": [
    "Let's try the Boltzmann policy in the case of state composed by a 5 dimensional array.\n",
    "Sample a random set of parameters and a random state vector.\n",
    "Define number of action = 3."
   ]
  },
  {
   "cell_type": "code",
   "execution_count": 18,
   "metadata": {},
   "outputs": [
    {
     "name": "stdout",
     "output_type": "stream",
     "text": [
      "Selected Action is 1\n",
      "Selected action is 2\n",
      "Selected action is 2\n",
      "Selected action is 1\n",
      "Selected action is 0\n",
      "Selected action is 0\n",
      "Selected action is 2\n",
      "Selected action is 0\n",
      "Selected action is 2\n",
      "Selected action is 0\n",
      "Selected action is 2\n"
     ]
    }
   ],
   "source": [
    "n_actions = 3\n",
    "# sample a random set of parameters for each action\n",
    "parameters = [np.random.rand(5, 1) for _ in range(n_actions)]\n",
    "\n",
    "# define the state features as identity function\n",
    "features = lambda x: x\n",
    "\n",
    "# define the policy\n",
    "pi: BoltzmannPolicy = BoltzmannPolicy(parameters, features)\n",
    "    \n",
    "# sample a state\n",
    "state = np.random.rand(5, 1)\n",
    "\n",
    "# Call the policy obtaining the action\n",
    "action = pi(state)\n",
    "print(\"Selected Action is\", action)\n",
    "\n",
    "# sample some actions\n",
    "for _ in range(10):\n",
    "    print(\"Selected action is\", pi(state))"
   ]
  },
  {
   "cell_type": "markdown",
   "metadata": {},
   "source": [
    "### Bonus\n",
    "\n",
    "Implement a quadratic state features and re-run the notebook."
   ]
  }
 ],
 "metadata": {
  "kernelspec": {
   "display_name": "Python 3",
   "language": "python",
   "name": "python3"
  },
  "language_info": {
   "codemirror_mode": {
    "name": "ipython",
    "version": 3
   },
   "file_extension": ".py",
   "mimetype": "text/x-python",
   "name": "python",
   "nbconvert_exporter": "python",
   "pygments_lexer": "ipython3",
   "version": "3.6.8"
  }
 },
 "nbformat": 4,
 "nbformat_minor": 4
}
