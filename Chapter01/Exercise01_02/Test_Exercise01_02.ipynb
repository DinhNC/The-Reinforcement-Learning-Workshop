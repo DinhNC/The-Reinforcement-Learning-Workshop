{
 "cells": [
  {
   "cell_type": "code",
   "execution_count": 6,
   "metadata": {},
   "outputs": [],
   "source": [
    "import import_ipynb\n",
    "import numpy as np\n",
    "import unittest\n",
    "\n",
    "class TestExercise01_02(unittest.TestCase):\n",
    "    def setUp(self):\n",
    "        import Exercise01_02\n",
    "        self.exercise = Exercise01_02\n",
    "    \n",
    "    def test_linear_policy(self):\n",
    "        print(\"Testing Linear Policy\")\n",
    "        # sample a random set of parameters\n",
    "        parameters = np.random.rand(5, 1)\n",
    "\n",
    "        # define the state features as identity function\n",
    "        features = lambda x: x\n",
    "\n",
    "        # define the policy\n",
    "        pi: self.exercise.LinearPolicy = self.exercise.LinearPolicy(parameters, features)\n",
    "\n",
    "        # sample a state\n",
    "        state = np.random.rand(5, 1)\n",
    "\n",
    "        # Call the policy obtaining the action\n",
    "        action = pi(state)\n",
    "\n",
    "        self.assertEqual(action.shape, (1, 1))\n",
    "    \n",
    "    def test_gaussian_policy(self):\n",
    "        print(\"Testing Gaussian Policy\")\n",
    "        # sample a random set of parameters\n",
    "        mu_parameters = np.random.rand(5, 1)\n",
    "        sigma_parameters = np.random.rand(5, 1)\n",
    "\n",
    "        # define the state features as identity function\n",
    "        features = lambda x: x\n",
    "\n",
    "        # define the policy\n",
    "        pi: self.exercise.GaussianPolicy = self.exercise.GaussianPolicy(mu_parameters, sigma_parameters, features)\n",
    "\n",
    "        # sample a state\n",
    "        state = np.random.rand(5, 1)\n",
    "\n",
    "        # Call the policy obtaining the action\n",
    "        action = pi(state)\n",
    "\n",
    "        self.assertEqual(action.shape, (1, 1))\n",
    "    \n",
    "    def test_boltzmann_policy(self):\n",
    "        n_actions = 3\n",
    "        # sample a random set of parameters for each action\n",
    "        parameters = [np.random.rand(5, 1) for _ in range(n_actions)]\n",
    "\n",
    "        # define the state features as identity function\n",
    "        features = lambda x: x\n",
    "\n",
    "        # define the policy\n",
    "        pi: self.exercise.BoltzmannPolicy = self.exercise.BoltzmannPolicy(parameters, features)\n",
    "\n",
    "        # sample a state\n",
    "        state = np.random.rand(5, 1)\n",
    "\n",
    "        # Call the policy obtaining the action\n",
    "        action = pi(state)\n",
    "        self.assertTrue(action in range(3))"
   ]
  },
  {
   "cell_type": "code",
   "execution_count": 7,
   "metadata": {},
   "outputs": [
    {
     "name": "stderr",
     "output_type": "stream",
     "text": [
      "test_boltzmann_policy (__main__.TestExercise01_02) ... ok\n",
      "test_gaussian_policy (__main__.TestExercise01_02) ... ok\n",
      "test_linear_policy (__main__.TestExercise01_02) ... "
     ]
    },
    {
     "name": "stdout",
     "output_type": "stream",
     "text": [
      "Testing Gaussian Policy\n",
      "Testing Linear Policy\n"
     ]
    },
    {
     "name": "stderr",
     "output_type": "stream",
     "text": [
      "ok\n",
      "\n",
      "----------------------------------------------------------------------\n",
      "Ran 3 tests in 0.008s\n",
      "\n",
      "OK\n"
     ]
    },
    {
     "data": {
      "text/plain": [
       "<unittest.runner.TextTestResult run=3 errors=0 failures=0>"
      ]
     },
     "execution_count": 7,
     "metadata": {},
     "output_type": "execute_result"
    }
   ],
   "source": [
    "suite = unittest.TestLoader().loadTestsFromTestCase(TestExercise01_02)\n",
    "unittest.TextTestRunner(verbosity=2).run(suite)"
   ]
  }
 ],
 "metadata": {
  "kernelspec": {
   "display_name": "Python 3",
   "language": "python",
   "name": "python3"
  },
  "language_info": {
   "codemirror_mode": {
    "name": "ipython",
    "version": 3
   },
   "file_extension": ".py",
   "mimetype": "text/x-python",
   "name": "python",
   "nbconvert_exporter": "python",
   "pygments_lexer": "ipython3",
   "version": "3.6.8"
  }
 },
 "nbformat": 4,
 "nbformat_minor": 4
}
