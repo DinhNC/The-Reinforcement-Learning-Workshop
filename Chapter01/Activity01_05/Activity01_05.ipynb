{
 "cells": [
  {
   "cell_type": "markdown",
   "metadata": {},
   "source": [
    "# Measuring Performance of a random agent\n",
    "This activity will guide you through an important phase of every RL experiment: the measurement of performances and the design of agents. You have to design a random agent using a Python class to modularize and keep the agent independent from the main loop. After that, you have to measure the mean and the variance of the Discounted Return using a batch of 100 episodes. You can use every environment you want, taking into account that the agent’s action should be compatible with the environment. You can design two different types of agent for discrete action spaces and for continuous action spaces."
   ]
  },
  {
   "cell_type": "markdown",
   "metadata": {},
   "source": [
    "## Agents"
   ]
  },
  {
   "cell_type": "code",
   "execution_count": 1,
   "metadata": {},
   "outputs": [],
   "source": [
    "import abc\n",
    "\n",
    "import numpy as np\n",
    "import gym"
   ]
  },
  {
   "cell_type": "code",
   "execution_count": 2,
   "metadata": {},
   "outputs": [],
   "source": [
    "\"\"\"\n",
    "Abstract class representing the agent\n",
    "Init with the action space and the function pi returning the action\n",
    "\"\"\"\n",
    "class Agent:\n",
    "    def __init__(self, action_space: gym.spaces.Space):\n",
    "        \"\"\"\n",
    "        Constructor of the agent class.\n",
    "        \n",
    "        Args:\n",
    "            action_space (gym.spaces.Space): environment action space\n",
    "        \"\"\"\n",
    "        raise NotImplementedError(\"This class cannot be instantiated.\")\n",
    "\n",
    "    @abc.abstractmethod\n",
    "    def pi(self, state: np.ndarray) -> np.ndarray:\n",
    "        \"\"\"\n",
    "        Agent's policy.\n",
    "        \n",
    "        Args:\n",
    "            state (np.ndarray): environment state\n",
    "        \n",
    "        Returns:\n",
    "            The selected action\n",
    "        \"\"\"\n",
    "        pass"
   ]
  },
  {
   "cell_type": "markdown",
   "metadata": {},
   "source": [
    "## Continuous Agent"
   ]
  },
  {
   "cell_type": "code",
   "execution_count": 3,
   "metadata": {},
   "outputs": [],
   "source": [
    "class ContinuousAgent(Agent):\n",
    "    def __init__(self, action_space: gym.spaces.Space, seed=46):\n",
    "        # setup seed\n",
    "        np.random.seed(seed)\n",
    "        # check the action space type\n",
    "        if not isinstance(action_space, gym.spaces.Box):\n",
    "            raise ValueError(\"This is a Continuous Agent pass as input a Box Space.\")\n",
    "\n",
    "        # initialize the distribution according to the action space type\n",
    "        if (action_space.low == -np.inf) and (action_space.high == np.inf):\n",
    "            # the distribution is a normal distribution\n",
    "            self._pi = lambda: np.random.normal(loc=0, scale=1, size=action_space.shape)\n",
    "            return\n",
    "        if (action_space.low != -np.inf) and (action_space.high != np.inf):\n",
    "            # the distribution is a uniform distribution\n",
    "            self._pi = lambda: np.random.uniform(\n",
    "                low=action_space.low, high=action_space.high, size=action_space.shape\n",
    "            )\n",
    "            return\n",
    "        if action_space.low == -np.inf:\n",
    "            # negative exponential distribution\n",
    "            self._pi = (\n",
    "                lambda: -np.random.exponential(size=action_space.shape)\n",
    "                + action_space.high\n",
    "            )\n",
    "            return\n",
    "        if action_space.high == np.inf:\n",
    "            # exponential distribution\n",
    "            self._pi = (\n",
    "                lambda: np.random.exponential(size=action_space.shape)\n",
    "                + action_space.low\n",
    "            )\n",
    "            return\n",
    "\n",
    "    def pi(self, observation: np.ndarray) -> np.ndarray:\n",
    "        \"\"\"\n",
    "        Policy: simply call the internal _pi().\n",
    "        \n",
    "        This is a random agent so the action is independent from the observation.\n",
    "        For real agents the action depends on the observation.\n",
    "        \"\"\"\n",
    "        return self._pi()"
   ]
  },
  {
   "cell_type": "markdown",
   "metadata": {},
   "source": [
    "## Discrete Agent"
   ]
  },
  {
   "cell_type": "code",
   "execution_count": 4,
   "metadata": {},
   "outputs": [],
   "source": [
    "class DiscreteAgent(Agent):\n",
    "    def __init__(self, action_space: gym.spaces.Space, seed=46):\n",
    "        # setup seed\n",
    "        np.random.seed(seed)\n",
    "        # check the action space type\n",
    "        if not isinstance(action_space, gym.spaces.Discrete):\n",
    "            raise ValueError(\"This is a Discrete Agent pass as input a Discrete Space.\")\n",
    "\n",
    "        # initialize the distribution according to the action space n attribute\n",
    "        # the distribution is a uniform distribution\n",
    "        self._pi = lambda: np.random.randint(low=0, high=action_space.n)\n",
    "\n",
    "    def pi(self, observation: np.ndarray) -> np.ndarray:\n",
    "        \"\"\"\n",
    "        Policy: simply call the internal _pi().\n",
    "        \n",
    "        This is a random agent so the action is independent from the observation.\n",
    "        For real agents the action depends on the observation.\n",
    "        \"\"\"\n",
    "        return self._pi()"
   ]
  },
  {
   "cell_type": "markdown",
   "metadata": {},
   "source": [
    "## Utility function\n",
    "Utility function to initialize the correct agent based on the action space"
   ]
  },
  {
   "cell_type": "code",
   "execution_count": 5,
   "metadata": {},
   "outputs": [],
   "source": [
    "def make_agent(action_space: gym.spaces.Space, seed=46):\n",
    "    \"\"\"\n",
    "    Returns the correct agent based on the action space type\n",
    "    \"\"\"\n",
    "    if isinstance(action_space, gym.spaces.Discrete):\n",
    "        return DiscreteAgent(action_space, seed)\n",
    "    if isinstance(action_space, gym.spaces.Box):\n",
    "        return ContinuousAgent(action_space, seed)\n",
    "    raise ValueError(\n",
    "        \"Only Box spaces or Discrete Spaces are allowed, check the action space of the environment\"\n",
    "    )"
   ]
  },
  {
   "cell_type": "markdown",
   "metadata": {},
   "source": [
    "## RL Loop"
   ]
  },
  {
   "cell_type": "markdown",
   "metadata": {},
   "source": [
    "Define the parameters"
   ]
  },
  {
   "cell_type": "code",
   "execution_count": 6,
   "metadata": {},
   "outputs": [],
   "source": [
    "# Environment Name\n",
    "env_name = \"CartPole-v0\"\n",
    "# Number of episodes\n",
    "episodes = 10\n",
    "# Number of Timesteps of each episodes\n",
    "timesteps = 100\n",
    "# Discount factor\n",
    "gamma = 1.0\n",
    "# seed environment\n",
    "seed = 46"
   ]
  },
  {
   "cell_type": "code",
   "execution_count": 7,
   "metadata": {},
   "outputs": [],
   "source": [
    "# Needed to show the environment in a notebook\n",
    "from gym import wrappers"
   ]
  },
  {
   "cell_type": "code",
   "execution_count": 8,
   "metadata": {},
   "outputs": [
    {
     "name": "stdout",
     "output_type": "stream",
     "text": [
      "Episode Number: 0, Timesteps: 27, Return: 28.0\n",
      "Episode Number: 1, Timesteps: 9, Return: 10.0\n",
      "Episode Number: 2, Timesteps: 13, Return: 14.0\n",
      "Episode Number: 3, Timesteps: 16, Return: 17.0\n",
      "Episode Number: 4, Timesteps: 31, Return: 32.0\n",
      "Episode Number: 5, Timesteps: 10, Return: 11.0\n",
      "Episode Number: 6, Timesteps: 14, Return: 15.0\n",
      "Episode Number: 7, Timesteps: 11, Return: 12.0\n",
      "Episode Number: 8, Timesteps: 10, Return: 11.0\n",
      "Episode Number: 9, Timesteps: 30, Return: 31.0\n",
      "Statistics on Return: Average: 18.1, Variance: 68.89000000000001\n"
     ]
    }
   ],
   "source": [
    "env = gym.make(env_name)\n",
    "env.seed(seed)\n",
    "# the last argument is needed to record all episodes\n",
    "# otherwise gym would record only some of them\n",
    "# The monitor saves the episodes inside the folder ./gym-results\n",
    "env = wrappers.Monitor(env, \"./gym-results\", force=True, video_callable=lambda episode_id: True)\n",
    "\n",
    "agent = make_agent(env.action_space, seed)\n",
    "\n",
    "# list of returns\n",
    "episode_returns = []\n",
    "\n",
    "# loop for the episodes\n",
    "for episode_number in range(episodes):\n",
    "    # here we are inside an episode\n",
    "\n",
    "    # reset cumulated gamma\n",
    "    gamma_cum = 1\n",
    "\n",
    "    # return of the current episode\n",
    "    episode_return = 0\n",
    "\n",
    "    # the reset function resets the environment and returns\n",
    "    # the first environment observation\n",
    "    observation = env.reset()\n",
    "\n",
    "    # loop for the given number of timesteps or\n",
    "    # until the episode is terminated\n",
    "    for timestep_number in range(timesteps):\n",
    "\n",
    "        # render the environment\n",
    "        #env.render()\n",
    "\n",
    "        # select the action\n",
    "        action = agent.pi(observation)\n",
    "\n",
    "        # apply the selected action by calling env.step\n",
    "        observation, reward, done, info = env.step(action)\n",
    "\n",
    "        # increment the return\n",
    "        episode_return += reward * gamma_cum\n",
    "\n",
    "        # update the value of cumulated discount factor\n",
    "        gamma_cum = gamma_cum * gamma\n",
    "\n",
    "        # if done the episode is terminated, we have to reset\n",
    "        # the environment\n",
    "        if done:\n",
    "            print(\n",
    "                f\"Episode Number: {episode_number}, Timesteps: {timestep_number}, Return: {episode_return}\"\n",
    "            )\n",
    "            # break from the timestep loop\n",
    "            break\n",
    "\n",
    "    episode_returns.append(episode_return)\n",
    "\n",
    "# close the environment\n",
    "env.close()\n",
    "\n",
    "# Calculate return statistics\n",
    "avg_return = np.mean(episode_returns)\n",
    "std_return = np.std(episode_returns)\n",
    "var_return = std_return ** 2  # variance is std^2\n",
    "\n",
    "print(f\"Statistics on Return: Average: {avg_return}, Variance: {var_return}\")"
   ]
  },
  {
   "cell_type": "markdown",
   "metadata": {},
   "source": [
    "### Rendering\n",
    "\n",
    "Let's render the episodes inside a notebook"
   ]
  },
  {
   "cell_type": "code",
   "execution_count": 11,
   "metadata": {},
   "outputs": [
    {
     "data": {
      "text/html": [
       "\n",
       "        <video width=\"360\" height=\"auto\" alt=\"test\" controls><source src=\"data:video/mp4;base64,AAAAIGZ0eXBpc29tAAACAGlzb21pc28yYXZjMW1wNDEAAAAIZnJlZQAAEM1tZGF0AAACoAYF//+c3EXpvebZSLeWLNgg2SPu73gyNjQgLSBjb3JlIDE1NyAtIEguMjY0L01QRUctNCBBVkMgY29kZWMgLSBDb3B5bGVmdCAyMDAzLTIwMTggLSBodHRwOi8vd3d3LnZpZGVvbGFuLm9yZy94MjY0Lmh0bWwgLSBvcHRpb25zOiBjYWJhYz0xIHJlZj0zIGRlYmxvY2s9MTowOjAgYW5hbHlzZT0weDM6MHgxMTMgbWU9aGV4IHN1Ym1lPTcgcHN5PTEgcHN5X3JkPTEuMDA6MC4wMCBtaXhlZF9yZWY9MSBtZV9yYW5nZT0xNiBjaHJvbWFfbWU9MSB0cmVsbGlzPTEgOHg4ZGN0PTEgY3FtPTAgZGVhZHpvbmU9MjEsMTEgZmFzdF9wc2tpcD0xIGNocm9tYV9xcF9vZmZzZXQ9LTIgdGhyZWFkcz02IGxvb2thaGVhZF90aHJlYWRzPTEgc2xpY2VkX3RocmVhZHM9MCBucj0wIGRlY2ltYXRlPTEgaW50ZXJsYWNlZD0wIGJsdXJheV9jb21wYXQ9MCBjb25zdHJhaW5lZF9pbnRyYT0wIGJmcmFtZXM9MyBiX3B5cmFtaWQ9MiBiX2FkYXB0PTEgYl9iaWFzPTAgZGlyZWN0PTEgd2VpZ2h0Yj0xIG9wZW5fZ29wPTAgd2VpZ2h0cD0yIGtleWludD0yNTAga2V5aW50X21pbj0yNSBzY2VuZWN1dD00MCBpbnRyYV9yZWZyZXNoPTAgcmNfbG9va2FoZWFkPTQwIHJjPWNyZiBtYnRyZWU9MSBjcmY9MjMuMCBxY29tcD0wLjYwIHFwbWluPTAgcXBtYXg9NjkgcXBzdGVwPTQgaXBfcmF0aW89MS40MCBhcT0xOjEuMDAAgAAAA85liIQAL//+9q78yytHC5UuHVl7s1Hy6Ely/YgwfWgAAAMAAAMAAAMAAAMBjEfJB0a/TJK6gAAAAwAAlIABJwAFDAAaAADUAAdwAE6AA/gAM0ACiAAuAALwAC8AAAMAAAMAAAMAAAMAAAMAAAMAAAMAAAMAFtm8MfCLYAnQ9/ssNsrXf+0SJLY6esPc39fLawK+Bxsez4NYQWNtF9VrwoecAXcIowMAcAACRYh02tWg7lpCMeXYyoZXLIepvsM9zeMh+NFZwAASPyPVUnRaQagsnGWxLvkb4PRKZSFLqcoWMv5atChkGstHe6hKqviAAOnxbYFj3le+O8as6l1xJ/wYCsqW8WJJJ7uB4yi/wwYdR32ccsIngoVgAEn0a7Gxe5SmygpvMMQ3NOQX3o0rFPE33UGekr0fWN/EAAERDeVZ6XUyp17GA9sjcsIJAABY3d2ela/R7x7kaomTzsV0EEya8UaxYUxlHu6XEITMKX/Al52AABQSYc5k3+VaX1JDEbW28ufiBM8csH8L2GkdqjqIgWxEQAVnKB25WBoyp8LLOt6FMVF458hXn4iz4Z8kya46WAP1qmLHDgAGU/L0ee5HO7rufOedJo1CLm7mCq+s9XE2S2p17gANkMPF1OopfAaOKwD6uSK3aMgFvQqoz9eLAAWJlVdsha/Euq91xYywY1qOABADl2MEI8kmG/71+F2YEtX4SfrWJzAaFKj1/0V4wAF9GdZoGsEogouPih2I8s/oWJiKWgkJySJCFIAFlnZR/njrvnZ+7SOU+wpLod9yMM8ykCwbMuCi74Ud38QUjz92yBCYTx7upgvm930g5f6wkqe6Yn3uq+1zUUR6Mz6flbFhCBzOIBM+Y7pFKepC8qzcEca9FBWlG4VIK0RjPoY2wKkWe9TAAAqsd6xZ6V5HGycqLoAGm6dRhA6gxZn6S1Bq7l4XhppwYCUCtiGvGytFFbKBDJ5HJn/lLmbW3F0wswDfvB1DgP3knw+urJT8c0oL51uXLQV1/0Ux9HU+AzcstvWsYJ4IcB3lvUhVmrC/xCe65uVpPQkx0gauySKZ+WwtBWu10x/0JUIk7Y8TUQyCxU5HrQvtfGR0PPUoekQRlN90FMDs1wxYM/2aGAXRE25XE8I7HgtgK/F5t0NLGaQQXk/SLLCCgyNC2mwCOMH9LUgAAPaDbQF0d2Q25ukUAEpAnW5z89TvnlTp8vbwInKfWkodjvL4kBRzhqSeV4OC1CCaxc4dPoTAAAsoAAADAAADAAADAAADAAADAAADAAADAAADAAADAAADAABxQQAAAM5BmiRsQv/+jLAAAAMAAAMAAAMAAlCVTgCJaq53JnjihvCEHFsken5qStM0Dn5fQJT4YdHyFDXJD/ugfiq2idduxUDcc0bD15eEWsOS8I8fYxUZ9t8zDrSPdBVH+CPtZlUnpn0d9PJAkTKsVC1hCO8LjFv7dthXNXdOkJg9Xr99FbPFFPPKCuxzOObCVq4u+c/YziT1X+ehaYwO+P0hGbPEGC/ovEhxkUQrt3Tsu+veXpyNrhIkQ+h6XHYDup2GqXvNEs9dd/Un8sAAAAMBSQAAALFBnkJ4hH8AAAMAAAMAAAMAAMQEZjwA1SjDmydZ7+X1gZx/eQ3bAshAl1qWGXZQTdtkc6upzXUtmOR5Yrfm5zm+9Qknxf3TVwy/iehJXvMxe0tLo91hxEWNVRdBV83xHW/JNkRWjxKGKKSLtzRPDeBxqbAeosOe4gDMRd2o2fYg8skKXmXlOwoyydPo1auXyCn3v4xHUxPKVNtvA9ntTLC7Zt2A8sYd6+I90Xni0AAABn0AAABHAZ5hdEf/AAADAAADAAADAAE2GBy1reo74n9Qiq5/2yGVnaDFHWGy/14Pex2f6wNjLs/NJOIMClNnAffcbn0AQ9wAAAMADFgAAABQAZ5jakf/AAADAAADAAADAAEtkSbgplou8EGfmAxl64p+qd5m3j+BcoNyUx+fOy+iQ2TstBYqWHT37ZM1/ujJMCW5Y4wnBluoOgcRBcAAArcAAAEgQZpoSahBaJlMCFf//jhAAAADAAADAAADAAksiSSXWFZiAFoh0leehU7HERr+No3sX184Ep6YywYaoYO2+IweZi4CUTAE/daoU5I8QMb/o8st+8TjPp0uujHl+GXocDwjBTf4WcWPas/8ooVkncZByx5O5VM0hes5Q28/xqxxgkSpNI7pQEbxYIgJlIMtCjPqMaKTWkFysrpIV9nZkYEiD95wduLVKBIWynSkwJ/5eNn/gFeuDB69anRtU051ylbX+U2hEpMNUHC6z2ruM7VfzXhIqhlKhNKJ0nO8Xo4ydAku1MvODwSMR1kcfLV6QDSslriPWwUzjbvityRwUJo5th4PT7NeLurPsK9SQgUobPFBz1KnPkj+xyOvjKxb6GFHAAAAx0GehkURLCP/AAADAAADAAADAADDfl78/mdk1RoGVJOm56oAD9zE9jKFZMrFvHWOoAIG0tO2LQ+O0ZX823Tf4a9U0QSNXtxT0p5DL58n2xLGiCi9wlVmv7LnYz6GOhYOr4mgcgZq+med7wAJcuJw6mjF+9C2UM/bvYbdVjX0rI2lUB6uOgmHrAdLwAAAAwAAAwAAAwASFC6mvuBi7zgoepVBZHD4f97TccrpEBw7saZucS4RV7ixWXhuto2vb7w/x1wAAAMAGBEAAACLAZ6ldEf/AAADAAADAAADAAE0lU62drKKrCfDgfoXPVYDeJI2rxBvyOWYVjVqlDNvdlMJ3Cu5ROYFHPFMUJhhFoW9+0jyGbBhZoTnXYDRUrQ28jtKm+RJkMMh/cNAh4u3cjSA2ekQFCux8jLR8UqAXm1ABKix1sm8H0eEAfOhMjP76P5LoHAAAAMBvQAAAIcBnqdqR/8AAAMAAAMAAAMAATTwrWZZlBQ3xzrxyz7r4YRYbADzLb/kKdnfcgLgKXumh4SUby6PhMX76SjlF4hedog2woUt+2+p3+mfYamhyd/ywCgwJJ1RB0mRpFrsQaEFXKDYvhFAAP5uWef2oyYiRQN09A9WGBA8k3wjMtPSYx4xgAAAEHAAAAF0QZqsSahBbJlMCEf//eEAAAMAAAMAAAMAACSam8fy0uBeMCX5gAcUDje1qCYiK/Ar5fGsQQ7EdFWq7BRAAoWvSwlRzZ+hyH4AJWingdESoKcCzd2nELFuYX8nsVjnBWYAOBwQJ6qi9pOZGgoTBtlUc3H6ZpAW5iWLuTf7CCgP/E9r4u5HXrLDbVU5GGhg1fbPer5VPx2DVYzLpHfsCEjBTYAdsBngjDo9bRMLh+hTrXOy5nTds7nk4u1iMPD8/SZCSqLLrCaPqTUuFUSNA74k4B37IMVx2EnLl3gCCSekVem81E/6zrk91h1QJEaAUrSP4irVhUdGWlyuUvA0O3kEReuvOcij7cs+XNZ0InhQEwAfurbpA2bZciFaTHSCFIgJz1uz4HFvypXOGDo3Qmv9EhIf+1bhCgb16vC6juA3ixxa4sNDEr57HZrtHohoQmNhTv/pacgHRnhIkIjppqm1cEQnSSDXh/7ftXJwtUh1E88TXgOAAAABHEGeykUVLCP/AAADAAADAAADAADJS7u98AsG2KsAHFP0MXHFU97azM2KTlvugUaHLI1tpu1NgpeK6lt9Ht2Vra/bpvL0fKMXzuFslgtvNSVC+ZPpPVsZ9NmIA1qeSv1LmZBgVqItM8UBN+rH2zzllIV/DHyIUvnF+Bbb0QaUHskdHAzp5NqJVd2/WuV1z8lwg0mez1wdK+skgGlkRf/66WiyyY5jPPcZcUeLRrNJcwzRRz93CMmTXWVP8eAuCRe7Fws9aJDcjnYWaTNWjsWwK9X/RZflJ/4DiYAAAAMAAAMAAAMAAC51X9nMuWni3tN25s+KNcU96Ohls8R5cEqglu0kMmS2/tv2LIpqvxPNPOSNgJ2LQr06AAADAD0hAAAAugGe6XRH/wAAAwAAAwAAAwABNJE7Kb2lwLABv1bCEuj5LGhT895NXdYeZDwxiVIP/wNo0tQcWzO/8F//dSra6pAwyREcz9kM2tUAP3ANksGi+O3ODeVqf4UrzCVbADcc5hoAF6qV5hdYTbOP0D1Dsb2bZCK2wNPC+hUR6faidc0/wgNFN99qyzAsP2ofXguRpclXOtC4wQWBVvnbgp509yNCZgDNp8CNTsg6OW8qAlgtWN1iUzoAAAMBeQAAANABnutqR/8AAAMAAAMAAAMAAT60nNpnFFXbjVWHloFy8u9hgrpXkfkoJFxdyWYdHRZvaw/td3VepIzU28Lhl1QC9XwzLu+sNvK4SJ5ww1YpEMtEzqK1Fy0z/mKFnprpIEkyNxrrIzlrl1U0REAFoA/9aQtnDaTRRrc5ivUWAt1UUjRAvJ+b9yXnFwpGVeZ7RseyMvGOAAN9ZHn4cZAOEJ7X0mngd/lcCgCy2ELY4wEwNSATfHAiIGNfybeq+MU7YOnwahptqnBIsCHvgAAAAwH+AAAA8kGa7UmoQWyZTAj//IQAAAMAAAMAAAMAAI90vEA0b7glRAmo0H2rMiEROoge3OQAfxp8mAhSPT17wYkc6muNL9H9u9arC2Zv9jvvsmCfPr7oAFdgks9W4HWYIJfzQKv0zFatmbw5STcNmquh7vD8DKSjZ0/EfYHS/yKNmma43YBG93M5VB6YYMoMucFKQYKgUepTlxnqK1BgVNs2mKCWPglapUbIuS5VXsKWsHyBHCfmqQfQJZcYSM259iZmhvM8C8hny0VFm92KqQAJRgrN+achceiNqAAiyD9z5Pc+gg3HWprOT2+0Qb2up7FmFPtg8WAxAAADum1vb3YAAABsbXZoZAAAAAAAAAAAAAAAAAAAA+gAAAEYAAEAAAEAAAAAAAAAAAAAAAABAAAAAAAAAAAAAAAAAAAAAQAAAAAAAAAAAAAAAAAAQAAAAAAAAAAAAAAAAAAAAAAAAAAAAAAAAAAAAAAAAAIAAALkdHJhawAAAFx0a2hkAAAAAwAAAAAAAAAAAAAAAQAAAAAAAAEYAAAAAAAAAAAAAAAAAAAAAAABAAAAAAAAAAAAAAAAAAAAAQAAAAAAAAAAAAAAAAAAQAAAAASwAAADIAAAAAAAJGVkdHMAAAAcZWxzdAAAAAAAAAABAAABGAAAAgAAAQAAAAACXG1kaWEAAAAgbWRoZAAAAAAAAAAAAAAAAAAAMgAAAA4AVcQAAAAAAC1oZGxyAAAAAAAAAAB2aWRlAAAAAAAAAAAAAAAAVmlkZW9IYW5kbGVyAAAAAgdtaW5mAAAAFHZtaGQAAAABAAAAAAAAAAAAAAAkZGluZgAAABxkcmVmAAAAAAAAAAEAAAAMdXJsIAAAAAEAAAHHc3RibAAAAJdzdHNkAAAAAAAAAAEAAACHYXZjMQAAAAAAAAABAAAAAAAAAAAAAAAAAAAAAASwAyAASAAAAEgAAAAAAAAAAQAAAAAAAAAAAAAAAAAAAAAAAAAAAAAAAAAAAAAAAAAAABj//wAAADFhdmNDAWQAIP/hABhnZAAgrNlASwZaEAAAAwAQAAAGQPGDGWABAAZo6+PLIsAAAAAYc3R0cwAAAAAAAAABAAAADgAAAQAAAAAUc3RzcwAAAAAAAAABAAAAAQAAAIBjdHRzAAAAAAAAAA4AAAABAAACAAAAAAEAAAUAAAAAAQAAAgAAAAABAAAAAAAAAAEAAAEAAAAAAQAABQAAAAABAAACAAAAAAEAAAAAAAAAAQAAAQAAAAABAAAFAAAAAAEAAAIAAAAAAQAAAAAAAAABAAABAAAAAAEAAAIAAAAAHHN0c2MAAAAAAAAAAQAAAAEAAAAOAAAAAQAAAExzdHN6AAAAAAAAAAAAAAAOAAAGdgAAANIAAAC1AAAASwAAAFQAAAEkAAAAywAAAI8AAACLAAABeAAAASAAAAC+AAAA1AAAAPYAAAAUc3RjbwAAAAAAAAABAAAAMAAAAGJ1ZHRhAAAAWm1ldGEAAAAAAAAAIWhkbHIAAAAAAAAAAG1kaXJhcHBsAAAAAAAAAAAAAAAALWlsc3QAAAAlqXRvbwAAAB1kYXRhAAAAAQAAAABMYXZmNTguMjAuMTAw\" type=\"video/mp4\" /></video>"
      ],
      "text/plain": [
       "<IPython.core.display.HTML object>"
      ]
     },
     "metadata": {},
     "output_type": "display_data"
    },
    {
     "data": {
      "text/html": [
       "\n",
       "        <video width=\"360\" height=\"auto\" alt=\"test\" controls><source src=\"data:video/mp4;base64,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\" type=\"video/mp4\" /></video>"
      ],
      "text/plain": [
       "<IPython.core.display.HTML object>"
      ]
     },
     "metadata": {},
     "output_type": "display_data"
    },
    {
     "data": {
      "text/html": [
       "\n",
       "        <video width=\"360\" height=\"auto\" alt=\"test\" controls><source src=\"data:video/mp4;base64,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\" type=\"video/mp4\" /></video>"
      ],
      "text/plain": [
       "<IPython.core.display.HTML object>"
      ]
     },
     "metadata": {},
     "output_type": "display_data"
    },
    {
     "data": {
      "text/html": [
       "\n",
       "        <video width=\"360\" height=\"auto\" alt=\"test\" controls><source src=\"data:video/mp4;base64,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\" type=\"video/mp4\" /></video>"
      ],
      "text/plain": [
       "<IPython.core.display.HTML object>"
      ]
     },
     "metadata": {},
     "output_type": "display_data"
    },
    {
     "data": {
      "text/html": [
       "\n",
       "        <video width=\"360\" height=\"auto\" alt=\"test\" controls><source src=\"data:video/mp4;base64,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\" type=\"video/mp4\" /></video>"
      ],
      "text/plain": [
       "<IPython.core.display.HTML object>"
      ]
     },
     "metadata": {},
     "output_type": "display_data"
    }
   ],
   "source": [
    "# Render the episodes\n",
    "import io\n",
    "import base64\n",
    "from IPython.display import HTML, display\n",
    "\n",
    "episodes_to_watch = 1\n",
    "for episode in range(episodes_to_watch):\n",
    "    video = io.open(f'./gym-results/openaigym.video.{env.file_infix}.video{episode:06d}.mp4', 'r+b').read()\n",
    "    encoded = base64.b64encode(video)\n",
    "    display(HTML(data='''\n",
    "        <video width=\"360\" height=\"auto\" alt=\"test\" controls><source src=\"data:video/mp4;base64,{0}\" type=\"video/mp4\" /></video>'''\n",
    "    .format(encoded.decode('ascii'))))"
   ]
  },
  {
   "cell_type": "markdown",
   "metadata": {},
   "source": [
    "As you can see the episode duration is not too long, this is because the actions are taken at random, thus the pole falls after some timesteps."
   ]
  }
 ],
 "metadata": {
  "kernelspec": {
   "display_name": "Python 3",
   "language": "python",
   "name": "python3"
  },
  "language_info": {
   "codemirror_mode": {
    "name": "ipython",
    "version": 3
   },
   "file_extension": ".py",
   "mimetype": "text/x-python",
   "name": "python",
   "nbconvert_exporter": "python",
   "pygments_lexer": "ipython3",
   "version": "3.6.8"
  }
 },
 "nbformat": 4,
 "nbformat_minor": 4
}
