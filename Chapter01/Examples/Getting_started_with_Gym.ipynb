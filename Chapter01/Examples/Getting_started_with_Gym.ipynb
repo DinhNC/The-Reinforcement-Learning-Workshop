{
 "cells": [
  {
   "cell_type": "markdown",
   "metadata": {},
   "source": [
    "# Getting Started with Gym - CartPole"
   ]
  },
  {
   "cell_type": "markdown",
   "metadata": {},
   "source": [
    "Let's create a Cart-Pole environment using Gym and analyze its properties:"
   ]
  },
  {
   "cell_type": "code",
   "execution_count": 1,
   "metadata": {},
   "outputs": [
    {
     "name": "stdout",
     "output_type": "stream",
     "text": [
      "Action Space: Discrete(2)\n",
      "Observation Space: Box(4,)\n"
     ]
    }
   ],
   "source": [
    "# Import Gym Library\n",
    "import gym\n",
    "\n",
    "# Create the environment using gym.make(env_name)\n",
    "env = gym.make('CartPole-v1')\n",
    "\n",
    "# Analyze the action space of cart pole using the property action_space\n",
    "print(\"Action Space:\", env.action_space)\n",
    "\n",
    "# Analyze the observation space of cartpole using the property observation_space\n",
    "print(\"Observation Space:\", env.observation_space)"
   ]
  },
  {
   "cell_type": "code",
   "execution_count": 2,
   "metadata": {},
   "outputs": [
    {
     "name": "stdout",
     "output_type": "stream",
     "text": [
      "Lower bound of the Observation Space: [-4.8000002e+00 -3.4028235e+38 -4.1887903e-01 -3.4028235e+38]\n",
      "Upper bound of the Observation Space: [4.8000002e+00 3.4028235e+38 4.1887903e-01 3.4028235e+38]\n"
     ]
    }
   ],
   "source": [
    "# Analyze the bounds of the observation space\n",
    "print(\"Lower bound of the Observation Space:\", env.observation_space.low)\n",
    "print(\"Upper bound of the Observation Space:\", env.observation_space.high)"
   ]
  },
  {
   "cell_type": "markdown",
   "metadata": {},
   "source": [
    "## Gym Spaces"
   ]
  },
  {
   "cell_type": "code",
   "execution_count": 3,
   "metadata": {},
   "outputs": [],
   "source": [
    "# Type hinting\n",
    "from typing import Tuple\n",
    "\n",
    "# Import the spaces module\n",
    "from gym import spaces"
   ]
  },
  {
   "cell_type": "code",
   "execution_count": 4,
   "metadata": {},
   "outputs": [
    {
     "name": "stdout",
     "output_type": "stream",
     "text": [
      "Discrete Space Sample: 3\n",
      "Box Space Sample: [[0.9819452  0.8530809  0.43486938 0.4232546 ]\n",
      " [0.5723958  0.68396664 0.126198   0.30925545]\n",
      " [0.53425485 0.87229556 0.2578199  0.95488054]\n",
      " [0.9855171  0.74716663 0.20339443 0.17103171]]\n"
     ]
    }
   ],
   "source": [
    "# Create a discrete space composed by N-elements (5)\n",
    "n: int = 5\n",
    "discrete_space = spaces.Discrete(n=n)\n",
    "\n",
    "# Sample from the space using .sample method\n",
    "print(\"Discrete Space Sample:\", discrete_space.sample())\n",
    "\n",
    "# Create a Box space with a shape of (4, 4)\n",
    "# Upper and lower Bound are 0 and 1\n",
    "box_shape: Tuple[int, int] = (4, 4)\n",
    "box_space = spaces.Box(low=0, high=1, shape=box_shape)\n",
    "\n",
    "# Sample from the space using .sample method\n",
    "print(\"Box Space Sample:\", box_space.sample())"
   ]
  },
  {
   "cell_type": "code",
   "execution_count": 5,
   "metadata": {},
   "outputs": [
    {
     "name": "stdout",
     "output_type": "stream",
     "text": [
      "Discrete Space (seed=0) Sample: 0\n",
      "Box Space (seed=0) Sample: [[0.05436005 0.9653909  0.63269097 0.29001734]\n",
      " [0.10248426 0.67307633 0.39257675 0.66984606]\n",
      " [0.05983897 0.52698725 0.04029069 0.9779441 ]\n",
      " [0.46293673 0.6296479  0.9470484  0.6992778 ]]\n"
     ]
    }
   ],
   "source": [
    "# Seed spaces to obtain reproducible samples\n",
    "discrete_space.seed(0)\n",
    "box_space.seed(0)\n",
    "\n",
    "# Sample from the seeded space\n",
    "print(\"Discrete Space (seed=0) Sample:\", discrete_space.sample())\n",
    "\n",
    "# Sample from the seeded space\n",
    "print(\"Box Space (seed=0) Sample:\", box_space.sample())"
   ]
  },
  {
   "cell_type": "markdown",
   "metadata": {},
   "source": [
    "## Rendering an Environment"
   ]
  },
  {
   "cell_type": "markdown",
   "metadata": {},
   "source": [
    "The following code shows how to render the cart-pole environment. The action is a sample from the action space in this case."
   ]
  },
  {
   "cell_type": "code",
   "execution_count": 6,
   "metadata": {},
   "outputs": [
    {
     "name": "stderr",
     "output_type": "stream",
     "text": [
      "/Users/emanueleghelfi/Development/venvs/rl-book/lib/python3.6/site-packages/gym/logger.py:30: UserWarning: \u001b[33mWARN: You are calling 'step()' even though this environment has already returned done = True. You should always call 'reset()' once you receive 'done = True' -- any further steps are undefined behavior.\u001b[0m\n",
      "  warnings.warn(colorize('%s: %s'%('WARN', msg % args), 'yellow'))\n"
     ]
    }
   ],
   "source": [
    "# Create the environment using gym.make(env_name)\n",
    "env = gym.make(\"CartPole-v1\")\n",
    "\n",
    "# reset the environment (mandatory)\n",
    "env.reset()\n",
    "\n",
    "# render the environment for 100 steps\n",
    "n_steps = 100\n",
    "for i in range(n_steps):\n",
    "    action = env.action_space.sample()\n",
    "    env.step(action)\n",
    "    env.render()\n",
    "\n",
    "env.close()"
   ]
  },
  {
   "cell_type": "markdown",
   "metadata": {},
   "source": [
    "Just ignore the warning for the time being. We will see how to handle the `done` return value in the following exercises."
   ]
  }
 ],
 "metadata": {
  "kernelspec": {
   "display_name": "Python 3",
   "language": "python",
   "name": "python3"
  },
  "language_info": {
   "codemirror_mode": {
    "name": "ipython",
    "version": 3
   },
   "file_extension": ".py",
   "mimetype": "text/x-python",
   "name": "python",
   "nbconvert_exporter": "python",
   "pygments_lexer": "ipython3",
   "version": "3.6.8"
  }
 },
 "nbformat": 4,
 "nbformat_minor": 4
}
