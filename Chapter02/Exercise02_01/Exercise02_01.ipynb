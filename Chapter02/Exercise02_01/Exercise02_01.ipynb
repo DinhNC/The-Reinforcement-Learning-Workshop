{
 "cells": [
  {
   "cell_type": "markdown",
   "metadata": {},
   "source": [
    "# Bellman Equation for MRPs\n",
    "In this exercise we will learn how to find state values for a simple MRPs using the scipy library."
   ]
  },
  {
   "cell_type": "markdown",
   "metadata": {},
   "source": [
    "![MRP](pictures/mrp.png)"
   ]
  },
  {
   "cell_type": "code",
   "execution_count": 1,
   "metadata": {},
   "outputs": [],
   "source": [
    "import numpy as np\n",
    "from scipy import linalg"
   ]
  },
  {
   "cell_type": "markdown",
   "metadata": {},
   "source": [
    "Define the transition probability matrix"
   ]
  },
  {
   "cell_type": "code",
   "execution_count": 2,
   "metadata": {},
   "outputs": [
    {
     "data": {
      "text/plain": [
       "array([[0. , 0.7, 0.3],\n",
       "       [0.5, 0. , 0.5],\n",
       "       [0. , 0.1, 0.9]])"
      ]
     },
     "execution_count": 2,
     "metadata": {},
     "output_type": "execute_result"
    }
   ],
   "source": [
    "# define the Transition Probability Matrix\n",
    "n_states = 3\n",
    "P = np.zeros((n_states, n_states), np.float)\n",
    "P[0, 1] = 0.7\n",
    "P[0, 2] = 0.3\n",
    "P[1, 0] = 0.5\n",
    "P[1, 2] = 0.5\n",
    "P[2, 1] = 0.1\n",
    "P[2, 2] = 0.9\n",
    "P"
   ]
  },
  {
   "cell_type": "markdown",
   "metadata": {},
   "source": [
    "Check that the sum over columns is exactly equal to 1, being a probability matrix."
   ]
  },
  {
   "cell_type": "code",
   "execution_count": 3,
   "metadata": {},
   "outputs": [],
   "source": [
    "# the sum over columns is 1 for each row being a probability matrix\n",
    "assert((np.sum(P, axis=1) == 1).all())"
   ]
  },
  {
   "cell_type": "markdown",
   "metadata": {},
   "source": [
    "We can calculate the expected immediate reward for each state using the reward matrix and the transition probability"
   ]
  },
  {
   "cell_type": "code",
   "execution_count": 4,
   "metadata": {},
   "outputs": [],
   "source": [
    "# define the reward matrix\n",
    "R = np.zeros((n_states, n_states), np.float)\n",
    "R[0, 1] = 1\n",
    "R[0, 2] = 10\n",
    "R[1, 0] = 0\n",
    "R[1, 2] = 1\n",
    "R[2, 1] = -1\n",
    "R[2, 2] = 10"
   ]
  },
  {
   "cell_type": "code",
   "execution_count": 5,
   "metadata": {},
   "outputs": [],
   "source": [
    "# calculate expected reward for each state by multiplying the probability matrix for each reward\n",
    "R_expected = np.sum(P * R, axis=1, keepdims=True)"
   ]
  },
  {
   "cell_type": "code",
   "execution_count": 6,
   "metadata": {},
   "outputs": [
    {
     "data": {
      "text/plain": [
       "array([[3.7],\n",
       "       [0.5],\n",
       "       [8.9]])"
      ]
     },
     "execution_count": 6,
     "metadata": {},
     "output_type": "execute_result"
    }
   ],
   "source": [
    "# The matrix R_states\n",
    "R_expected"
   ]
  },
  {
   "cell_type": "markdown",
   "metadata": {},
   "source": [
    "The R_expected vector is the expected immediate reward foe each state.\n",
    "State 1 has an expected reward of 3.7 that is exactly equal to 0.7 * 1 + 0.3*10.\n",
    "The same for state 2 and so on."
   ]
  },
  {
   "cell_type": "code",
   "execution_count": 7,
   "metadata": {},
   "outputs": [],
   "source": [
    "# define the discount factor\n",
    "gamma = 0.9"
   ]
  },
  {
   "cell_type": "markdown",
   "metadata": {},
   "source": [
    "We are ready to solve the Bellman Equation\n",
    "\n",
    "$$\n",
    "(I - \\gamma P)V = R_{expected}\n",
    "$$\n",
    "\n",
    "Casting this to a linear equation we have\n",
    "$$\n",
    "Ax = b\n",
    "$$\n",
    "\n",
    "Where\n",
    "$$\n",
    "A = (I - \\gamma P)\n",
    "$$\n",
    "And\n",
    "$$\n",
    "b = R\n",
    "$$"
   ]
  },
  {
   "cell_type": "code",
   "execution_count": 8,
   "metadata": {},
   "outputs": [],
   "source": [
    "# Now it is possible to solve the Bellman Equation\n",
    "A = np.eye(n_states) - gamma * P"
   ]
  },
  {
   "cell_type": "code",
   "execution_count": 9,
   "metadata": {},
   "outputs": [
    {
     "ename": "NameError",
     "evalue": "name 'R_states' is not defined",
     "output_type": "error",
     "traceback": [
      "\u001b[0;31m---------------------------------------------------------------------------\u001b[0m",
      "\u001b[0;31mNameError\u001b[0m                                 Traceback (most recent call last)",
      "\u001b[0;32m<ipython-input-9-cfc8eb2f25a4>\u001b[0m in \u001b[0;36m<module>\u001b[0;34m\u001b[0m\n\u001b[0;32m----> 1\u001b[0;31m \u001b[0mB\u001b[0m \u001b[0;34m=\u001b[0m \u001b[0mR_states\u001b[0m\u001b[0;34m\u001b[0m\u001b[0;34m\u001b[0m\u001b[0m\n\u001b[0m",
      "\u001b[0;31mNameError\u001b[0m: name 'R_states' is not defined"
     ]
    }
   ],
   "source": [
    "B = R_states"
   ]
  },
  {
   "cell_type": "code",
   "execution_count": null,
   "metadata": {},
   "outputs": [],
   "source": [
    "# solve using scipy linalg\n",
    "V = linalg.solve(A, B)\n",
    "V"
   ]
  },
  {
   "cell_type": "markdown",
   "metadata": {},
   "source": [
    "The vector V represents the value for each state. The state 3 has the highest value."
   ]
  }
 ],
 "metadata": {
  "kernelspec": {
   "display_name": "Python 3",
   "language": "python",
   "name": "python3"
  },
  "language_info": {
   "codemirror_mode": {
    "name": "ipython",
    "version": 3
   },
   "file_extension": ".py",
   "mimetype": "text/x-python",
   "name": "python",
   "nbconvert_exporter": "python",
   "pygments_lexer": "ipython3",
   "version": "3.6.8"
  }
 },
 "nbformat": 4,
 "nbformat_minor": 4
}
