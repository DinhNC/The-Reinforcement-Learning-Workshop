{
 "cells": [
  {
   "cell_type": "code",
   "execution_count": 67,
   "metadata": {},
   "outputs": [],
   "source": [
    "import unittest\n",
    "import import_ipynb\n",
    "import numpy as np\n",
    "\n",
    "class TestGridworld(unittest.TestCase):\n",
    "    def setUp(self):\n",
    "        import Activity02_01\n",
    "        self.exercise = Activity02_01\n",
    "    \n",
    "    def test_environment(self):\n",
    "        print(\"Testing Environment\")\n",
    "        self.assertTrue(isinstance(self.exercise.env, self.exercise.Environment))\n",
    "        self.assertEqual((self.exercise.env.grid_width, self.exercise.env.grid_height), (5,5))\n",
    "    \n",
    "    def test_R(self):\n",
    "        print(\"Testing Reward matrix...\")\n",
    "        R_true = np.loadtxt('solution/R_square.txt')\n",
    "        self.assertTrue(np.equal(R_true, self.exercise.R_square).all())\n",
    "    \n",
    "    def test_V(self):\n",
    "        print(\"Testing Value function...\")\n",
    "        V_true = np.loadtxt('solution/V_square.txt')\n",
    "        self.assertTrue(np.equal(V_true, self.exercise.V_square).all())\n",
    "    \n",
    "    def test_actions(self):\n",
    "        print(\"Testing Actions...\")\n",
    "        possible_actions = [action for action in self.exercise.Action]\n",
    "        self.assertEqual(len(possible_actions), 4)\n",
    "    \n",
    "    def test_P(self):\n",
    "        print(\"Testing P...\")\n",
    "        P_true = np.loadtxt(\"solution/P.txt\")\n",
    "        self.assertTrue(np.equal(P_true, self.exercise.P).all())\n",
    "        self.assertTrue((np.sum(self.exercise.P, axis=1) == 1).all())"
   ]
  },
  {
   "cell_type": "code",
   "execution_count": 68,
   "metadata": {},
   "outputs": [
    {
     "name": "stderr",
     "output_type": "stream",
     "text": [
      "test_P (__main__.TestGridworld) ... ok\n",
      "test_R (__main__.TestGridworld) ... ok\n",
      "test_V (__main__.TestGridworld) ... ok\n",
      "test_actions (__main__.TestGridworld) ... ok\n",
      "test_environment (__main__.TestGridworld) ... "
     ]
    },
    {
     "name": "stdout",
     "output_type": "stream",
     "text": [
      "Testing P...\n",
      "Testing Reward matrix...\n",
      "Testing Value function...\n",
      "Testing Actions...\n",
      "Testing Environment\n"
     ]
    },
    {
     "name": "stderr",
     "output_type": "stream",
     "text": [
      "ok\n",
      "\n",
      "----------------------------------------------------------------------\n",
      "Ran 5 tests in 0.023s\n",
      "\n",
      "OK\n"
     ]
    },
    {
     "data": {
      "text/plain": [
       "<unittest.runner.TextTestResult run=5 errors=0 failures=0>"
      ]
     },
     "execution_count": 68,
     "metadata": {},
     "output_type": "execute_result"
    }
   ],
   "source": [
    "suite = unittest.TestLoader().loadTestsFromTestCase(TestGridworld)\n",
    "unittest.TextTestRunner(verbosity=2).run(suite)"
   ]
  },
  {
   "cell_type": "code",
   "execution_count": null,
   "metadata": {},
   "outputs": [],
   "source": []
  }
 ],
 "metadata": {
  "kernelspec": {
   "display_name": "Python 3",
   "language": "python",
   "name": "python3"
  },
  "language_info": {
   "codemirror_mode": {
    "name": "ipython",
    "version": 3
   },
   "file_extension": ".py",
   "mimetype": "text/x-python",
   "name": "python",
   "nbconvert_exporter": "python",
   "pygments_lexer": "ipython3",
   "version": "3.6.8"
  }
 },
 "nbformat": 4,
 "nbformat_minor": 4
}
