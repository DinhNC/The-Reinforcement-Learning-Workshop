{
 "cells": [
  {
   "cell_type": "code",
   "execution_count": 188,
   "metadata": {},
   "outputs": [],
   "source": [
    "import gym\n",
    "import numpy as np\n",
    "from collections import defaultdict"
   ]
  },
  {
   "cell_type": "code",
   "execution_count": 189,
   "metadata": {},
   "outputs": [
    {
     "name": "stdout",
     "output_type": "stream",
     "text": [
      "\n",
      "\u001b[41mS\u001b[0mFFF\n",
      "FHFH\n",
      "FFFH\n",
      "HFFG\n",
      "Discrete(16)\n",
      "Discrete(4)\n"
     ]
    }
   ],
   "source": [
    "env = gym.make(\"FrozenLake-v0\", is_slippery=False)\n",
    "env.reset()                    \n",
    "env.render()\n",
    "print(env.observation_space)\n",
    "print(env.action_space)\n",
    "name_action = {0:'Left',1:'Down',2:'Right',3:'Up'}"
   ]
  },
  {
   "cell_type": "code",
   "execution_count": 191,
   "metadata": {},
   "outputs": [],
   "source": [
    "def generate_frozenlake_episode():\n",
    "    episode = []\n",
    "    state = env.reset()\n",
    "    \n",
    "    step = 0;\n",
    "    while (True):\n",
    "        action = env.action_space.sample()\n",
    "        next_state, reward, done, info = env.step(action)\n",
    "        episode.append((next_state, action, reward))\n",
    "        if done:\n",
    "            break\n",
    "        state = next_state\n",
    "        step += 1\n",
    "    return episode, reward     "
   ]
  },
  {
   "cell_type": "code",
   "execution_count": 192,
   "metadata": {},
   "outputs": [],
   "source": [
    "def frozen_lake_prediction(batch):\n",
    "    for batch_number in range(batch+1):\n",
    "        total_reward = 0\n",
    "        for i_episode in range(100):\n",
    "            episode, reward = generate_frozenlake_episode()\n",
    "            total_reward += reward\n",
    "        success_percent = total_reward/100\n",
    "        print(\"Episode\", batch_number*100, \"Test Policy Win Ratio =\", float(success_percent*100), \"%\")"
   ]
  },
  {
   "cell_type": "code",
   "execution_count": 193,
   "metadata": {},
   "outputs": [
    {
     "name": "stdout",
     "output_type": "stream",
     "text": [
      "Episode 0 Test Policy Win Ratio = 2.0 %\n",
      "Episode 100 Test Policy Win Ratio = 2.0 %\n",
      "Episode 200 Test Policy Win Ratio = 4.0 %\n",
      "Episode 300 Test Policy Win Ratio = 1.0 %\n",
      "Episode 400 Test Policy Win Ratio = 1.0 %\n",
      "Episode 500 Test Policy Win Ratio = 1.0 %\n",
      "Episode 600 Test Policy Win Ratio = 3.0 %\n",
      "Episode 700 Test Policy Win Ratio = 0.0 %\n",
      "Episode 800 Test Policy Win Ratio = 3.0 %\n",
      "Episode 900 Test Policy Win Ratio = 0.0 %\n",
      "Episode 1000 Test Policy Win Ratio = 1.0 %\n",
      "Episode 1100 Test Policy Win Ratio = 1.0 %\n",
      "Episode 1200 Test Policy Win Ratio = 2.0 %\n",
      "Episode 1300 Test Policy Win Ratio = 1.0 %\n",
      "Episode 1400 Test Policy Win Ratio = 0.0 %\n",
      "Episode 1500 Test Policy Win Ratio = 1.0 %\n",
      "Episode 1600 Test Policy Win Ratio = 1.0 %\n",
      "Episode 1700 Test Policy Win Ratio = 0.0 %\n",
      "Episode 1800 Test Policy Win Ratio = 1.0 %\n",
      "Episode 1900 Test Policy Win Ratio = 1.0 %\n",
      "Episode 2000 Test Policy Win Ratio = 5.0 %\n",
      "Episode 2100 Test Policy Win Ratio = 1.0 %\n",
      "Episode 2200 Test Policy Win Ratio = 1.0 %\n",
      "Episode 2300 Test Policy Win Ratio = 3.0 %\n",
      "Episode 2400 Test Policy Win Ratio = 1.0 %\n",
      "Episode 2500 Test Policy Win Ratio = 4.0 %\n",
      "Episode 2600 Test Policy Win Ratio = 0.0 %\n",
      "Episode 2700 Test Policy Win Ratio = 2.0 %\n",
      "Episode 2800 Test Policy Win Ratio = 0.0 %\n",
      "Episode 2900 Test Policy Win Ratio = 2.0 %\n",
      "Episode 3000 Test Policy Win Ratio = 2.0 %\n",
      "Episode 3100 Test Policy Win Ratio = 0.0 %\n",
      "Episode 3200 Test Policy Win Ratio = 0.0 %\n",
      "Episode 3300 Test Policy Win Ratio = 1.0 %\n",
      "Episode 3400 Test Policy Win Ratio = 1.0 %\n",
      "Episode 3500 Test Policy Win Ratio = 2.0 %\n",
      "Episode 3600 Test Policy Win Ratio = 3.0 %\n",
      "Episode 3700 Test Policy Win Ratio = 1.0 %\n",
      "Episode 3800 Test Policy Win Ratio = 0.0 %\n",
      "Episode 3900 Test Policy Win Ratio = 0.0 %\n",
      "Episode 4000 Test Policy Win Ratio = 0.0 %\n",
      "Episode 4100 Test Policy Win Ratio = 0.0 %\n",
      "Episode 4200 Test Policy Win Ratio = 2.0 %\n",
      "Episode 4300 Test Policy Win Ratio = 1.0 %\n",
      "Episode 4400 Test Policy Win Ratio = 0.0 %\n",
      "Episode 4500 Test Policy Win Ratio = 2.0 %\n",
      "Episode 4600 Test Policy Win Ratio = 1.0 %\n",
      "Episode 4700 Test Policy Win Ratio = 0.0 %\n",
      "Episode 4800 Test Policy Win Ratio = 1.0 %\n",
      "Episode 4900 Test Policy Win Ratio = 3.0 %\n",
      "Episode 5000 Test Policy Win Ratio = 3.0 %\n",
      "Episode 5100 Test Policy Win Ratio = 2.0 %\n",
      "Episode 5200 Test Policy Win Ratio = 3.0 %\n",
      "Episode 5300 Test Policy Win Ratio = 3.0 %\n",
      "Episode 5400 Test Policy Win Ratio = 1.0 %\n",
      "Episode 5500 Test Policy Win Ratio = 0.0 %\n",
      "Episode 5600 Test Policy Win Ratio = 2.0 %\n",
      "Episode 5700 Test Policy Win Ratio = 2.0 %\n",
      "Episode 5800 Test Policy Win Ratio = 1.0 %\n",
      "Episode 5900 Test Policy Win Ratio = 1.0 %\n",
      "Episode 6000 Test Policy Win Ratio = 1.0 %\n",
      "Episode 6100 Test Policy Win Ratio = 1.0 %\n",
      "Episode 6200 Test Policy Win Ratio = 1.0 %\n",
      "Episode 6300 Test Policy Win Ratio = 1.0 %\n",
      "Episode 6400 Test Policy Win Ratio = 1.0 %\n",
      "Episode 6500 Test Policy Win Ratio = 1.0 %\n",
      "Episode 6600 Test Policy Win Ratio = 0.0 %\n",
      "Episode 6700 Test Policy Win Ratio = 2.0 %\n",
      "Episode 6800 Test Policy Win Ratio = 1.0 %\n",
      "Episode 6900 Test Policy Win Ratio = 2.0 %\n",
      "Episode 7000 Test Policy Win Ratio = 4.0 %\n",
      "Episode 7100 Test Policy Win Ratio = 1.0 %\n",
      "Episode 7200 Test Policy Win Ratio = 0.0 %\n",
      "Episode 7300 Test Policy Win Ratio = 1.0 %\n",
      "Episode 7400 Test Policy Win Ratio = 1.0 %\n",
      "Episode 7500 Test Policy Win Ratio = 1.0 %\n",
      "Episode 7600 Test Policy Win Ratio = 1.0 %\n",
      "Episode 7700 Test Policy Win Ratio = 0.0 %\n",
      "Episode 7800 Test Policy Win Ratio = 1.0 %\n",
      "Episode 7900 Test Policy Win Ratio = 1.0 %\n",
      "Episode 8000 Test Policy Win Ratio = 2.0 %\n",
      "Episode 8100 Test Policy Win Ratio = 5.0 %\n",
      "Episode 8200 Test Policy Win Ratio = 5.0 %\n",
      "Episode 8300 Test Policy Win Ratio = 1.0 %\n",
      "Episode 8400 Test Policy Win Ratio = 0.0 %\n",
      "Episode 8500 Test Policy Win Ratio = 0.0 %\n",
      "Episode 8600 Test Policy Win Ratio = 1.0 %\n",
      "Episode 8700 Test Policy Win Ratio = 0.0 %\n",
      "Episode 8800 Test Policy Win Ratio = 0.0 %\n",
      "Episode 8900 Test Policy Win Ratio = 2.0 %\n",
      "Episode 9000 Test Policy Win Ratio = 2.0 %\n",
      "Episode 9100 Test Policy Win Ratio = 2.0 %\n",
      "Episode 9200 Test Policy Win Ratio = 4.0 %\n",
      "Episode 9300 Test Policy Win Ratio = 1.0 %\n",
      "Episode 9400 Test Policy Win Ratio = 1.0 %\n",
      "Episode 9500 Test Policy Win Ratio = 0.0 %\n",
      "Episode 9600 Test Policy Win Ratio = 2.0 %\n",
      "Episode 9700 Test Policy Win Ratio = 1.0 %\n",
      "Episode 9800 Test Policy Win Ratio = 1.0 %\n",
      "Episode 9900 Test Policy Win Ratio = 2.0 %\n",
      "Episode 10000 Test Policy Win Ratio = 3.0 %\n"
     ]
    }
   ],
   "source": [
    "frozen_lake_prediction(100)"
   ]
  },
  {
   "cell_type": "code",
   "execution_count": null,
   "metadata": {},
   "outputs": [],
   "source": []
  },
  {
   "cell_type": "code",
   "execution_count": null,
   "metadata": {},
   "outputs": [],
   "source": []
  }
 ],
 "metadata": {
  "kernelspec": {
   "display_name": "Python 3",
   "language": "python",
   "name": "python3"
  },
  "language_info": {
   "codemirror_mode": {
    "name": "ipython",
    "version": 3
   },
   "file_extension": ".py",
   "mimetype": "text/x-python",
   "name": "python",
   "nbconvert_exporter": "python",
   "pygments_lexer": "ipython3",
   "version": "3.7.4"
  }
 },
 "nbformat": 4,
 "nbformat_minor": 2
}
