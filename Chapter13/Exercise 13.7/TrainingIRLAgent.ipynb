{
 "cells": [
  {
   "cell_type": "code",
   "execution_count": 1,
   "metadata": {},
   "outputs": [],
   "source": [
    "#import packages\n",
    "import gym\n",
    "import pylab\n",
    "import numpy as np"
   ]
  },
  {
   "cell_type": "code",
   "execution_count": 2,
   "metadata": {},
   "outputs": [],
   "source": [
    "#instantiale parameters\n",
    "no_states = 400\n",
    "no_actions = 3\n",
    "no_st_feature = 20\n",
    "table = np.zeros((no_states,no_actions))\n",
    "matrix_features = np.eye((no_states))\n",
    "gamma_p= 0.99\n",
    "alpha_p = 0.03\n",
    "theta_p = 0.05"
   ]
  },
  {
   "cell_type": "code",
   "execution_count": 3,
   "metadata": {},
   "outputs": [],
   "source": [
    "#random seed\n",
    "np.random.seed(223)"
   ]
  },
  {
   "cell_type": "code",
   "execution_count": 4,
   "metadata": {},
   "outputs": [],
   "source": [
    "#mapping the demo environment\n",
    "def env_params(env, no_st_feature):\n",
    "    env_min = env.observation_space.low\n",
    "    env_max = env.observation_space.high\n",
    "    dist = (env_max - env_min) / no_st_feature\n",
    "    return env_min, env_max, dist"
   ]
  },
  {
   "cell_type": "code",
   "execution_count": 5,
   "metadata": {},
   "outputs": [],
   "source": [
    "#mapping the index of the state\n",
    "def params_state(matrix, env_min, dist, no_st_feature):\n",
    "    pos_indx = int((matrix[0] - env_min[0]) / dist[0])\n",
    "    vel_indx = int((matrix[1] - env_min[1]) / dist[1])\n",
    "    state_indx = pos_indx + vel_indx * no_st_feature\n",
    "    return state_indx"
   ]
  },
  {
   "cell_type": "code",
   "execution_count": 6,
   "metadata": {},
   "outputs": [],
   "source": [
    "#mapping demonstrations\n",
    "def demonstration_indx(env, no_st_feature):\n",
    "    env_min, env_max, dist = env_params(env,no_st_feature)\n",
    "    demo_load = np.load(file=\"https://raw.githubusercontent.com/PacktWorkshops/The-Reinforcement-Learning-Workshop/master/Chapter03/Dataset/Expert demonstrations.npy\")\n",
    "    demos = np.zeros((len(demo_load),len(demo_load[0]),3))\n",
    "    for x in range(len(demo_load)):\n",
    "        for y in range(len(demo_load[0])):\n",
    "            state_indx = params_state(demo_load[x][y],env_min, dist, no_st_feature)\n",
    "            demos[x][y][0] = state_indx\n",
    "            demos[x][y][1] = demo_load[x][y][2]\n",
    "    return demos\n"
   ]
  },
  {
   "cell_type": "code",
   "execution_count": 7,
   "metadata": {
    "pycharm": {
     "name": "#%%\n"
    }
   },
   "outputs": [],
   "source": [
    "#mapping the index of the simulated states\n",
    "def attach_state(env, state):\n",
    "    env_min, env_max, dist = env_params(env, no_st_feature)\n",
    "    state_indx = params_state(state, env_min, dist,no_st_feature)\n",
    "    return state_indx"
   ]
  },
  {
   "cell_type": "code",
   "execution_count": 9,
   "metadata": {},
   "outputs": [],
   "source": [
    "def qtable_update(current_state, action, reward,new_state):\n",
    "    current_q = table[current_state][action]\n",
    "    new_q = reward + gamma_p * max(table[new_state])\n",
    "    table[current_state][action] += alpha_p * (new_q - current_q)"
   ]
  },
  {
   "cell_type": "code",
   "execution_count": 10,
   "metadata": {},
   "outputs": [],
   "source": [
    "def expert_config(matrix_features, demonstrations):\n",
    "    feat_exp = np.zeros(matrix_features.shape[0])\n",
    "\n",
    "    for demonstration in demonstrations:\n",
    "        for state_indx, _, _ in demonstration:\n",
    "            feat_exp += matrix_features[int(state_indx)]\n",
    "\n",
    "    feat_exp /= demonstrations.shape[0]\n",
    "    return feat_exp"
   ]
  },
  {
   "cell_type": "code",
   "execution_count": 11,
   "metadata": {},
   "outputs": [],
   "source": [
    "def inverse_rl(expert, learner, theta, alpha):\n",
    "    difference = expert - learner\n",
    "    theta += alpha * difference\n",
    "    for j in range(len(theta)):\n",
    "        if theta[j] > 0:\n",
    "            theta[j] = 0"
   ]
  },
  {
   "cell_type": "code",
   "execution_count": 12,
   "metadata": {},
   "outputs": [],
   "source": [
    "def use_reward(matrix_features, theta, no_states, state_indx):\n",
    "    rewards_demon = matrix_features.dot(theta).reshape((no_states,))\n",
    "    return rewards_demon[state_indx]"
   ]
  },
  {
   "cell_type": "code",
   "execution_count": 13,
   "metadata": {},
   "outputs": [
    {
     "name": "stdout",
     "output_type": "stream",
     "text": [
      "Average reward for episode 0 is -200.0\n"
     ]
    },
    {
     "data": {
      "image/png": "[encoded data removed]",
      "text/plain": [
       "<Figure size 432x288 with 1 Axes>"
      ]
     },
     "metadata": {
      "needs_background": "light"
     },
     "output_type": "display_data"
    },
    {
     "name": "stdout",
     "output_type": "stream",
     "text": [
      "Average reward for episode 500 is -200.0\n"
     ]
    },
    {
     "data": {
      "image/png": "[encoded data removed]",
      "text/plain": [
       "<Figure size 432x288 with 1 Axes>"
      ]
     },
     "metadata": {
      "needs_background": "light"
     },
     "output_type": "display_data"
    },
    {
     "name": "stdout",
     "output_type": "stream",
     "text": [
      "Average reward for episode 1000 is -200.0\n"
     ]
    },
    {
     "data": {
      "image/png": "[encoded data removed]",
      "text/plain": [
       "<Figure size 432x288 with 1 Axes>"
      ]
     },
     "metadata": {
      "needs_background": "light"
     },
     "output_type": "display_data"
    },
    {
     "name": "stdout",
     "output_type": "stream",
     "text": [
      "Average reward for episode 1500 is -199.95802798134577\n"
     ]
    },
    {
     "data": {
      "image/png": "[encoded data removed]",
      "text/plain": [
       "<Figure size 432x288 with 1 Axes>"
      ]
     },
     "metadata": {
      "needs_background": "light"
     },
     "output_type": "display_data"
    },
    {
     "name": "stdout",
     "output_type": "stream",
     "text": [
      "Average reward for episode 2000 is -199.96801599200398\n"
     ]
    },
    {
     "data": {
      "image/png": "[encoded data removed]",
      "text/plain": [
       "<Figure size 432x288 with 1 Axes>"
      ]
     },
     "metadata": {
      "needs_background": "light"
     },
     "output_type": "display_data"
    },
    {
     "name": "stdout",
     "output_type": "stream",
     "text": [
      "Average reward for episode 2500 is -199.97441023590565\n"
     ]
    },
    {
     "data": {
      "image/png": "[encoded data removed]",
      "text/plain": [
       "<Figure size 432x288 with 1 Axes>"
      ]
     },
     "metadata": {
      "needs_background": "light"
     },
     "output_type": "display_data"
    }
   ],
   "source": [
    "def main():\n",
    "    env = gym.make('MountainCar-v0')\n",
    "    demonstrations = demonstration_indx(env,no_st_feature)\n",
    "    expert = expert_config(matrix_features, demonstrations)\n",
    "    learner_features = np.zeros(no_states)\n",
    "    theta = -(np.random.uniform(size =(no_states,)))\n",
    "    episodes, rewards = [], []\n",
    "\n",
    "    for episode in range (3000):\n",
    "        current_state = env.reset()\n",
    "        score = 0\n",
    "        if(episode != 0 and episode == 1000) or (episode > 1000 and episode % 500 == 0):\n",
    "            learner = learner_features / episode\n",
    "            inverse_rl(expert, learner, theta, theta_p)\n",
    "\n",
    "        while True:\n",
    "            state_indx = attach_state(env, current_state)\n",
    "            action = np.argmax(table[state_indx])\n",
    "            new_state, reward, done, _ = env.step(action)\n",
    "\n",
    "            reward_demo = use_reward(matrix_features, theta, no_states,state_indx)\n",
    "            new_state_indx = attach_state(env, new_state)\n",
    "            qtable_update(state_indx,action,reward_demo,new_state_indx)\n",
    "            learner_features += matrix_features[int(state_indx)]\n",
    "\n",
    "            score += reward\n",
    "            current_state = new_state\n",
    "\n",
    "            if done:\n",
    "                rewards.append(score)\n",
    "                episodes.append(episode)\n",
    "                break\n",
    "\n",
    "        if episode % 500 == 0:\n",
    "            mean = np.mean(rewards)\n",
    "            print(\"Average reward for episode {} is {}\".format(episode,mean))\n",
    "            pylab.plot(episodes, rewards, 'b')\n",
    "            pylab.show()\n",
    "            # pylab.savefig(\"values.png\")\n",
    "            # np.save(\"q_table\", arr = table)\n",
    "\n",
    "if __name__ == '__main__':\n",
    "    main()"
   ]
  }
 ],
 "metadata": {
  "kernelspec": {
   "display_name": "Python 3",
   "language": "python",
   "name": "python3"
  },
  "language_info": {
   "codemirror_mode": {
    "name": "ipython",
    "version": 3
   },
   "file_extension": ".py",
   "mimetype": "text/x-python",
   "name": "python",
   "nbconvert_exporter": "python",
   "pygments_lexer": "ipython3",
   "version": "3.7.3"
  }
 },
 "nbformat": 4,
 "nbformat_minor": 1
}
