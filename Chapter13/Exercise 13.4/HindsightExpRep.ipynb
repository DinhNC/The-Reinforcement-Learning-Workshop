{
 "cells": [
  {
   "cell_type": "code",
   "execution_count": 1,
   "metadata": {},
   "outputs": [],
   "source": [
    "#import packages\n",
    "from collections import deque\n",
    "import numpy as np"
   ]
  },
  {
   "cell_type": "code",
   "execution_count": 3,
   "metadata": {},
   "outputs": [],
   "source": [
    "class HindsightExpRep:\n",
    "    #initialise buffer\n",
    "    def __init__(self):\n",
    "        self.buffer = deque()\n",
    "    \n",
    "    #reset buffer\n",
    "    def renew(self):\n",
    "        self.buffer = deque()\n",
    "    \n",
    "    #append sample to buffer\n",
    "    def append_sample(self, sample):\n",
    "        self.buffer.append(sample)\n",
    "    \n",
    "    # function for setting the previous sets as goals\n",
    "    def hindsight(self):\n",
    "        length = len(self.buffer)\n",
    "        target = self.buffer[-1][-2][1,:,:]\n",
    "        for le in range(length):\n",
    "            self.buffer[-1-le][-2][2,:,:] = target\n",
    "            self.buffer[-1-le][0][2,:,:] = target\n",
    "            self.buffer[-1-le][2] = 0.0\n",
    "            self.buffer[-1-le][4] = False\n",
    "            if np.sum(np.abs(self.buffer[-1-le][-2][1,:,:] - target))==0:\n",
    "                self.buffer[-1-le][2] = 1.0\n",
    "                self.buffer[-1-le][4] = True\n",
    "        return self.buffer"
   ]
  }
 ],
 "metadata": {
  "kernelspec": {
   "display_name": "Python 3",
   "language": "python",
   "name": "python3"
  },
  "language_info": {
   "codemirror_mode": {
    "name": "ipython",
    "version": 3
   },
   "file_extension": ".py",
   "mimetype": "text/x-python",
   "name": "python",
   "nbconvert_exporter": "python",
   "pygments_lexer": "ipython3",
   "version": "3.7.3"
  }
 },
 "nbformat": 4,
 "nbformat_minor": 1
}
