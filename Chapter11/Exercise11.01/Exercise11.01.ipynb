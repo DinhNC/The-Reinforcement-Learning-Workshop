
  {
   "cell_type": "code",
   "execution_count": null,
   "metadata": {},
   "outputs": [],
   "source": [
    "import gym\n",
    "import torch as T\n",
    "import numpy as np"
   ]
  },
  {
   "cell_type": "code",
   "execution_count": null,
   "metadata": {},
   "outputs": [],
   "source": [
    "class ActorCritic(T.nn.Module):\n",
    "    def __init__(self):\n",
    "        super(ActorCritic, self).__init__()\n",
    "        self.transform = T.nn.Linear(8, 128)\n",
    "        self.act_layer = T.nn.Linear(128, 4) # Action layer\n",
    "        self.val_layer = T.nn.Linear(128, 1) # Value layer\n",
    "        self.log_probs = []\n",
    "        self.state_vals = []\n",
    "        self.rewards = []\n",
    "\n",
    "    def forward(self, state):\n",
    "        state = T.from_numpy(state).float()\n",
    "        state = T.nn.functional.relu(self.transform(state))\n",
    "        state_value = self.val_layer(state)\n",
    "\n",
    "        act_probs = T.nn.functional.softmax(self.act_layer(state))\n",
    "        act_dist = T.distributions.Categorical(act_probs)\n",
    "        action = act_dist.sample()\n",
    "\n",
    "        self.log_probs.append(act_dist.log_prob(action))\n",
    "        self.state_vals.append(state_value)\n",
    "\n",
    "        return action.item()\n",
    "\n",
    "    def computeLoss(self, gamma=0.99):\n",
    "        rewards = []\n",
    "        discounted_reward = 0\n",
    "        for reward in self.rewards[::-1]:\n",
    "            discounted_reward = reward + gamma * discounted_reward\n",
    "            rewards.insert(0, discounted_reward)\n",
    "\n",
    "        rewards = T.tensor(rewards)\n",
    "        rewards = (rewards - rewards.mean()) / (rewards.std())\n",
    "\n",
    "        loss = 0\n",
    "        for log_probability, value, reward in zip(\n",
    "            self.log_probs, self.state_vals, rewards):\n",
    "            advantage = reward - value.item()\n",
    "            act_loss = -log_probability * advantage\n",
    "            val_loss = T.nn.functional.smooth_l1_loss(value, reward)\n",
    "            loss += (act_loss + val_loss)\n",
    "\n",
    "        return loss\n",
    "\n",
    "    def clear(self):\n",
    "        del self.log_probs[:]\n",
    "        del self.state_vals[:]\n",
    "        del self.rewards[:]"
   ]
  },
  {
   "cell_type": "code",
   "execution_count": null,
   "metadata": {},
   "outputs": [],
   "source": [
    "np.random.seed(0)"
   ]
  },
  {
   "cell_type": "code",
   "execution_count": null,
   "metadata": {},
   "outputs": [],
   "source": [
    "env = gym.make(\"LunarLander-v2\")\n",
    "\n",
    "policy = ActorCritic()\n",
    "optimizer = T.optim.Adam(policy.parameters(), lr=0.02, betas=(0.9, 0.999))"
   ]
  },
  {
   "cell_type": "code",
   "execution_count": null,
   "metadata": {},
   "outputs": [],
   "source": [
    "render = True\n",
    "np.random.seed(0)\n",
    "running_reward = 0\n",
    "for i in np.arange(0, 10000):\n",
    "    state = env.reset()\n",
    "    for t in range(10000):\n",
    "        action = policy(state)\n",
    "        state, reward, done, _ = env.step(action)\n",
    "        policy.rewards.append(reward)\n",
    "        running_reward += reward\n",
    "        if render and i > 1000:\n",
    "            env.render()\n",
    "        if done:\n",
    "            break\n",
    "    print(\"Episode {}\\tReward: {}\".format(i, running_reward))\n",
    "\n",
    "    # Updating the policy\n",
    "    optimizer.zero_grad()\n",
    "    loss = policy.computeLoss(0.99)\n",
    "    loss.backward()\n",
    "    optimizer.step()\n",
    "    policy.clear()\n",
    "\n",
    "    if i % 20 == 0:\n",
    "        running_reward = running_reward / 20\n",
    "        running_reward = 0"
   ]
  },
  {
   "cell_type": "code",
   "execution_count": null,
   "metadata": {},
   "outputs": [],
   "source": []
  }
 ],
 "metadata": {
  "kernelspec": {
   "display_name": "Python 3",
   "language": "python",
   "name": "python3"
  },
  "language_info": {
   "codemirror_mode": {
    "name": "ipython",
    "version": 3
   },
   "file_extension": ".py",
   "mimetype": "text/x-python",
   "name": "python",
   "nbconvert_exporter": "python",
   "pygments_lexer": "ipython3",
   "version": "3.7.4"
  }
 },
 "nbformat": 4,
 "nbformat_minor": 2
}
