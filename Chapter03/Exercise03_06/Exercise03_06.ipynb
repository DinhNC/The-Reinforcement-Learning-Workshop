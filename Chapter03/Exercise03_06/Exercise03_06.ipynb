{
 "cells": [
  {
   "cell_type": "markdown",
   "metadata": {
    "colab_type": "text",
    "id": "9FklhSI0Gg9R"
   },
   "source": [
    "# Exercise 3.6 - Simple Classification using TensorFlow"
   ]
  },
  {
   "cell_type": "markdown",
   "metadata": {},
   "source": [
    "1. Import all required modules and print version of the most important ones: "
   ]
  },
  {
   "cell_type": "code",
   "execution_count": null,
   "metadata": {
    "colab": {},
    "colab_type": "code",
    "id": "5pZ8A2liqvgk"
   },
   "outputs": [],
   "source": [
    "from __future__ import absolute_import, division, print_function, unicode_literals\n",
    "\n",
    "from  IPython import display\n",
    "from matplotlib import pyplot as plt\n",
    "from scipy.ndimage.filters import gaussian_filter1d\n",
    "import pandas as pd\n",
    "import numpy as np\n",
    "\n",
    "import tensorflow as tf\n",
    "\n",
    "print(\"TensorFlow version: {}\".format(tf.__version__)) "
   ]
  },
  {
   "cell_type": "markdown",
   "metadata": {
    "colab_type": "text",
    "id": "1cweoTiruj8O"
   },
   "source": [
    "2. Dataset import and data preparation"
   ]
  },
  {
   "cell_type": "code",
   "execution_count": null,
   "metadata": {
    "colab": {},
    "colab_type": "code",
    "id": "YPjAvwb-6dFd"
   },
   "outputs": [],
   "source": [
    "higgs_path = tf.keras.utils.get_file('HIGGSSmall.csv.gz', 'https://github.com/PacktWorkshops/The-Reinforcement-Learning-Workshop/blob/master/Chapter03/Dataset/HIGGSSmall.csv.gz?raw=true')"
   ]
  },
  {
   "cell_type": "markdown",
   "metadata": {},
   "source": [
    "    a) Read CSV dataset into TensorFlow Dataset class and repack it to have tuples (features, labels)"
   ]
  },
  {
   "cell_type": "code",
   "execution_count": null,
   "metadata": {
    "colab": {},
    "colab_type": "code",
    "id": "AkiyUdaWIrww"
   },
   "outputs": [],
   "source": [
    "N_TEST = int(1e3)\n",
    "N_VALIDATION = int(1e3)\n",
    "N_TRAIN = int(1e4)\n",
    "BUFFER_SIZE = int(N_TRAIN)\n",
    "BATCH_SIZE = 500\n",
    "STEPS_PER_EPOCH = N_TRAIN//BATCH_SIZE\n",
    "\n",
    "N_FEATURES = 28\n",
    "\n",
    "ds = tf.data.experimental.CsvDataset(higgs_path,[float(),]*(N_FEATURES+1), compression_type=\"GZIP\")\n",
    "\n",
    "def pack_row(*row):\n",
    "    label = row[0]\n",
    "    features = tf.stack(row[1:],1)\n",
    "    return features, label\n",
    "\n",
    "packed_ds = ds.batch(N_TRAIN).map(pack_row).unbatch()"
   ]
  },
  {
   "cell_type": "markdown",
   "metadata": {
    "colab_type": "text",
    "id": "lUbxc5bxNSXV"
   },
   "source": [
    "    b) Take a look at features value distribution"
   ]
  },
  {
   "cell_type": "code",
   "execution_count": null,
   "metadata": {
    "colab": {},
    "colab_type": "code",
    "id": "TfcXuv33Fvka"
   },
   "outputs": [],
   "source": [
    "for features,label in packed_ds.batch(1000).take(1):\n",
    "    print(features[0])\n",
    "    plt.hist(features.numpy().flatten(), bins = 101)"
   ]
  },
  {
   "cell_type": "markdown",
   "metadata": {
    "colab_type": "text",
    "id": "FP3M9DmvON32"
   },
   "source": [
    "    c) Create training, validation and test sets"
   ]
  },
  {
   "cell_type": "code",
   "execution_count": null,
   "metadata": {
    "colab": {},
    "colab_type": "code",
    "id": "H8H_ZzpBOOk-"
   },
   "outputs": [],
   "source": [
    "validate_ds = packed_ds.take(N_VALIDATION).cache()\n",
    "test_ds = packed_ds.skip(N_VALIDATION).take(N_TEST).cache()\n",
    "train_ds = packed_ds.skip(N_VALIDATION+N_TEST).take(N_TRAIN).cache()"
   ]
  },
  {
   "cell_type": "markdown",
   "metadata": {
    "colab_type": "text",
    "id": "6PMliHoVO3OL"
   },
   "source": [
    "    d) Define features, label and class names"
   ]
  },
  {
   "cell_type": "code",
   "execution_count": null,
   "metadata": {},
   "outputs": [],
   "source": [
    "feature_names = [\"lepton pT\", \"lepton eta\", \"lepton phi\", \"missing energy magnitude\", \"missing energy phi\",\n",
    "                 \"jet 1 pt\", \"jet 1 eta\", \"jet 1 phi\", \"jet 1 b-tag\", \"jet 2 pt\", \"jet 2 eta\", \"jet 2 phi\", \n",
    "                 \"jet 2 b-tag\", \"jet 3 pt\", \"jet 3 eta\", \"jet 3 phi\", \"jet 3 b-tag\", \"jet 4 pt\", \"jet 4 eta\", \n",
    "                 \"jet 4 phi\", \"jet 4 b-tag\", \"m_jj\", \"m_jjj\", \"m_lv\", \"m_jlv\", \"m_bb\", \"m_wbb\", \"m_wwbb\"]\n",
    "label_name = ['Measure']\n",
    "class_names = ['Signal', 'Background']\n",
    "\n",
    "print(\"Features: {}\".format(feature_names))\n",
    "print(\"Label: {}\".format(label_name))\n",
    "print(\"Class names: {}\".format(class_names))"
   ]
  },
  {
   "cell_type": "markdown",
   "metadata": {},
   "source": [
    "    e) Show a sample of a training instance features and label"
   ]
  },
  {
   "cell_type": "code",
   "execution_count": null,
   "metadata": {},
   "outputs": [],
   "source": [
    "features, labels = next(iter(train_ds))\n",
    "print(\"Features =\")\n",
    "print(features.numpy())\n",
    "print(\"Labels =\")\n",
    "print(labels.numpy())"
   ]
  },
  {
   "cell_type": "markdown",
   "metadata": {},
   "source": [
    "    f) Assign batch size to datasets"
   ]
  },
  {
   "cell_type": "code",
   "execution_count": null,
   "metadata": {
    "colab": {},
    "colab_type": "code",
    "id": "Y7I4J355O223"
   },
   "outputs": [],
   "source": [
    "test_ds = test_ds.batch(BATCH_SIZE)\n",
    "validate_ds = validate_ds.batch(BATCH_SIZE)\n",
    "train_ds = train_ds.shuffle(BUFFER_SIZE).repeat().batch(BATCH_SIZE)"
   ]
  },
  {
   "cell_type": "markdown",
   "metadata": {
    "colab_type": "text",
    "id": "_ReKHdC2EgVu"
   },
   "source": [
    "3. Model creation and training\n",
    "\n",
    "    a) Create a decaying learning rate"
   ]
  },
  {
   "cell_type": "code",
   "execution_count": null,
   "metadata": {
    "colab": {},
    "colab_type": "code",
    "id": "LwQp-ERhAD6F"
   },
   "outputs": [],
   "source": [
    "lr_schedule = tf.keras.optimizers.schedules.InverseTimeDecay(\n",
    "  0.001,\n",
    "  decay_steps=STEPS_PER_EPOCH*1000,\n",
    "  decay_rate=1,\n",
    "  staircase=False)"
   ]
  },
  {
   "cell_type": "markdown",
   "metadata": {
    "colab_type": "text",
    "id": "ya7x7gr9UjU0"
   },
   "source": [
    "    b) Define a function to compile a model with\n",
    "        - Adam optimizer\n",
    "        - Binary cross entropy as loss function\n",
    "        \n",
    "       and fit it on training data using early stopping using validation dataset"
   ]
  },
  {
   "cell_type": "code",
   "execution_count": null,
   "metadata": {
    "colab": {},
    "colab_type": "code",
    "id": "xRCGwU3YH5sT"
   },
   "outputs": [],
   "source": [
    "def compile_and_fit(model, name, max_epochs=3000):\n",
    "    \n",
    "    optimizer = tf.keras.optimizers.Adam(lr_schedule)\n",
    "    \n",
    "    model.compile(optimizer=optimizer,\n",
    "                  loss=tf.keras.losses.BinaryCrossentropy(from_logits=True),\n",
    "                  metrics=[\n",
    "                    tf.keras.losses.BinaryCrossentropy(\n",
    "                        from_logits=True, name='binary_crossentropy'),\n",
    "                    'accuracy'])\n",
    "\n",
    "    model.summary()\n",
    "\n",
    "    history = model.fit(train_ds,\n",
    "                        steps_per_epoch = STEPS_PER_EPOCH,\n",
    "                        epochs=max_epochs,\n",
    "                        validation_data=validate_ds,\n",
    "                        callbacks=[tf.keras.callbacks.EarlyStopping(monitor='val_binary_crossentropy', patience=200)],\n",
    "                        verbose=2)\n",
    "    return history"
   ]
  },
  {
   "cell_type": "markdown",
   "metadata": {
    "colab_type": "text",
    "id": "a6JDv12scLTI"
   },
   "source": [
    "    c) Create a small model with just 2 layers with 16 and 1 neurons respectively, and compile it and fit"
   ]
  },
  {
   "cell_type": "code",
   "execution_count": null,
   "metadata": {
    "colab": {},
    "colab_type": "code",
    "id": "EZh-QFjKHb70"
   },
   "outputs": [],
   "source": [
    "small_model = tf.keras.Sequential([tf.keras.layers.Dense(16, activation='elu', input_shape=(N_FEATURES,)),\n",
    "                                  tf.keras.layers.Dense(1)])\n",
    "\n",
    "size_histories = {}\n",
    "\n",
    "size_histories['small'] = compile_and_fit(small_model, 'sizes/small')"
   ]
  },
  {
   "cell_type": "markdown",
   "metadata": {
    "colab_type": "text",
    "id": "rS_QGT6icwdI"
   },
   "source": [
    "    and check its performances on the test set"
   ]
  },
  {
   "cell_type": "code",
   "execution_count": null,
   "metadata": {},
   "outputs": [],
   "source": [
    "test_accuracy = tf.keras.metrics.Accuracy()\n",
    "\n",
    "for (features, labels) in test_ds:\n",
    "    logits = small_model(features)\n",
    "    probabilities = tf.keras.activations.sigmoid(logits)\n",
    "    predictions = 1*(probabilities.numpy() > 0.5)\n",
    "    test_accuracy(predictions, labels)\n",
    "    small_model_accuracy = test_accuracy.result()\n",
    "\n",
    "print(\"Test set accuracy: {:.3%}\".format(small_model_accuracy))"
   ]
  },
  {
   "cell_type": "markdown",
   "metadata": {
    "colab_type": "text",
    "id": "vIPuf23FFaVn"
   },
   "source": [
    "    d) Create a large model with 5 layers, 4 with 512 and the last one with 1 neuron respectively, and compile it and fit"
   ]
  },
  {
   "cell_type": "code",
   "execution_count": null,
   "metadata": {
    "colab": {},
    "colab_type": "code",
    "id": "ghQwwqwqvQM9"
   },
   "outputs": [],
   "source": [
    "large_model = tf.keras.Sequential([\n",
    "    tf.keras.layers.Dense(512, activation='elu', input_shape=(N_FEATURES,)),\n",
    "    tf.keras.layers.Dense(512, activation='elu'),\n",
    "    tf.keras.layers.Dense(512, activation='elu'),\n",
    "    tf.keras.layers.Dense(512, activation='elu'),\n",
    "    tf.keras.layers.Dense(1)\n",
    "])\n",
    "\n",
    "size_histories['large'] = compile_and_fit(large_model, \"sizes/large\")"
   ]
  },
  {
   "cell_type": "markdown",
   "metadata": {
    "colab_type": "text",
    "id": "D-d-i5DaYmr7"
   },
   "source": [
    "    and check its performances on the test set"
   ]
  },
  {
   "cell_type": "code",
   "execution_count": null,
   "metadata": {},
   "outputs": [],
   "source": [
    "test_accuracy = tf.keras.metrics.Accuracy()\n",
    "\n",
    "for (features, labels) in test_ds:\n",
    "    logits = large_model(features)\n",
    "    probabilities = tf.keras.activations.sigmoid(logits)\n",
    "    predictions = 1*(probabilities.numpy() > 0.5)\n",
    "    test_accuracy(predictions, labels)\n",
    "    large_model_accuracy = test_accuracy.result()\n",
    "\n",
    "print(\"Test set accuracy: {:.3%}\".format(large_model_accuracy))"
   ]
  },
  {
   "cell_type": "markdown",
   "metadata": {
    "colab_type": "text",
    "id": "Fy3CMUZpzH3d"
   },
   "source": [
    "    e) Create the same large model as before but add regularization items such as L2 regularization and Dropout, then compile it and fit"
   ]
  },
  {
   "cell_type": "code",
   "execution_count": null,
   "metadata": {
    "colab": {},
    "colab_type": "code",
    "id": "7zfs_qQIw1cz"
   },
   "outputs": [],
   "source": [
    "regularization_model = tf.keras.Sequential([\n",
    "    tf.keras.layers.Dense(512, kernel_regularizer=tf.keras.regularizers.l2(0.0001),\n",
    "                 activation='elu', input_shape=(N_FEATURES,)),\n",
    "    tf.keras.layers.Dropout(0.5),\n",
    "    tf.keras.layers.Dense(512, kernel_regularizer=tf.keras.regularizers.l2(0.0001),\n",
    "                 activation='elu'),\n",
    "    tf.keras.layers.Dropout(0.5),\n",
    "    tf.keras.layers.Dense(512, kernel_regularizer=tf.keras.regularizers.l2(0.0001),\n",
    "                 activation='elu'),\n",
    "    tf.keras.layers.Dropout(0.5),\n",
    "    tf.keras.layers.Dense(512, kernel_regularizer=tf.keras.regularizers.l2(0.0001),\n",
    "                 activation='elu'),\n",
    "    tf.keras.layers.Dropout(0.5),\n",
    "    tf.keras.layers.Dense(1)\n",
    "])\n",
    "\n",
    "size_histories['regularization'] = compile_and_fit(regularization_model, \"regularizers/regularization\", max_epochs=9000)"
   ]
  },
  {
   "cell_type": "markdown",
   "metadata": {},
   "source": [
    "    and check its performances on the test set"
   ]
  },
  {
   "cell_type": "code",
   "execution_count": null,
   "metadata": {},
   "outputs": [],
   "source": [
    "test_accuracy = tf.keras.metrics.Accuracy()\n",
    "\n",
    "for (features, labels) in test_ds:\n",
    "    logits = regularization_model(features)\n",
    "    probabilities = tf.keras.activations.sigmoid(logits)\n",
    "    predictions = 1*(probabilities.numpy() > 0.5)\n",
    "    test_accuracy(predictions, labels)\n",
    "    regularization_model_accuracy = test_accuracy.result()\n",
    "\n",
    "print(\"Test set accuracy: {:.3%}\".format(regularization_model_accuracy))"
   ]
  },
  {
   "cell_type": "markdown",
   "metadata": {},
   "source": [
    "    f) Compare three models binary cross entropy trend over epochs"
   ]
  },
  {
   "cell_type": "code",
   "execution_count": null,
   "metadata": {},
   "outputs": [],
   "source": [
    "histSmall = pd.DataFrame(size_histories[\"small\"].history)\n",
    "histSmall['epoch'] = size_histories[\"small\"].epoch\n",
    "\n",
    "histLarge = pd.DataFrame(size_histories[\"large\"].history)\n",
    "histLarge['epoch'] = size_histories[\"large\"].epoch\n",
    "\n",
    "histReg = pd.DataFrame(size_histories[\"regularization\"].history)\n",
    "histReg['epoch'] = size_histories[\"regularization\"].epoch\n",
    "\n",
    "trainSmoothSmall = gaussian_filter1d(histSmall['binary_crossentropy'], sigma=3)\n",
    "testSmoothSmall = gaussian_filter1d(histSmall['val_binary_crossentropy'], sigma=3)\n",
    "\n",
    "trainSmoothLarge = gaussian_filter1d(histLarge['binary_crossentropy'], sigma=3)\n",
    "testSmoothLarge = gaussian_filter1d(histLarge['val_binary_crossentropy'], sigma=3)\n",
    "\n",
    "trainSmoothReg = gaussian_filter1d(histReg['binary_crossentropy'], sigma=3)\n",
    "testSmoothReg = gaussian_filter1d(histReg['val_binary_crossentropy'], sigma=3)\n",
    "\n",
    "plt.plot(histSmall['epoch'], trainSmoothSmall, '-', histSmall['epoch'], testSmoothSmall, '--')\n",
    "plt.plot(histLarge['epoch'], trainSmoothLarge, '-', histLarge['epoch'], testSmoothLarge, '--')\n",
    "plt.plot(histReg['epoch'], trainSmoothReg, '-', histReg['epoch'], testSmoothReg, '--',)\n",
    "plt.ylim([0.5, 0.7])\n",
    "plt.ylabel('Binary Crossentropy')\n",
    "plt.legend([\"Small Training\", \"Small Validation\", \"Large Training\", \"Large Validation\", \"Regularization Training\", \"Regularization Validation\"])"
   ]
  },
  {
   "cell_type": "markdown",
   "metadata": {},
   "source": [
    "    g) Compare three models accuracy trend over epochs"
   ]
  },
  {
   "cell_type": "code",
   "execution_count": null,
   "metadata": {},
   "outputs": [],
   "source": [
    "trainSmoothSmall = gaussian_filter1d(histSmall['accuracy'], sigma=6)\n",
    "testSmoothSmall = gaussian_filter1d(histSmall['val_accuracy'], sigma=6)\n",
    "\n",
    "trainSmoothLarge = gaussian_filter1d(histLarge['accuracy'], sigma=6)\n",
    "testSmoothLarge = gaussian_filter1d(histLarge['val_accuracy'], sigma=6)\n",
    "\n",
    "trainSmoothReg = gaussian_filter1d(histReg['accuracy'], sigma=6)\n",
    "testSmoothReg = gaussian_filter1d(histReg['val_accuracy'], sigma=6)\n",
    "\n",
    "plt.plot(histSmall['epoch'], trainSmoothSmall, '-', histSmall['epoch'], testSmoothSmall, '--')\n",
    "plt.plot(histLarge['epoch'], trainSmoothLarge, '-', histLarge['epoch'], testSmoothLarge, '--')\n",
    "plt.plot(histReg['epoch'], trainSmoothReg, '-', histReg['epoch'], testSmoothReg, '--',)\n",
    "\n",
    "plt.ylim([0.5, 0.75])\n",
    "plt.ylabel('Accuracy')\n",
    "plt.legend([\"Small Training\", \"Small Validation\", \"Large Training\", \"Large Validation\",\"Regularization Training\", \"Regularization Validation\",])"
   ]
  }
 ],
 "metadata": {
  "accelerator": "GPU",
  "colab": {
   "collapsed_sections": [],
   "machine_shape": "hm",
   "name": "overfit_and_underfit.ipynb",
   "private_outputs": true,
   "provenance": [],
   "toc_visible": true
  },
  "kernelspec": {
   "display_name": "Python 3",
   "language": "python",
   "name": "python3"
  },
  "language_info": {
   "codemirror_mode": {
    "name": "ipython",
    "version": 3
   },
   "file_extension": ".py",
   "mimetype": "text/x-python",
   "name": "python",
   "nbconvert_exporter": "python",
   "pygments_lexer": "ipython3",
   "version": "3.7.4"
  }
 },
 "nbformat": 4,
 "nbformat_minor": 1
}
