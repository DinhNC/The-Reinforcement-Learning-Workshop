{
 "cells": [
  {
   "cell_type": "code",
   "execution_count": null,
   "metadata": {},
   "outputs": [],
   "source": [
    "import unittest\n",
    "import import_ipynb\n",
    "import pandas as pd\n",
    "import pandas.testing as pd_testing\n",
    "import tensorflow as tf\n",
    "\n",
    "class TestExercise03_05(unittest.TestCase):\n",
    "    def setUp(self):\n",
    "        import Exercise03_05\n",
    "        self.exercises = Exercise03_05\n",
    "\n",
    "        self.dataset_path = tf.keras.utils.get_file(\"auto-mpg.data\",\n",
    "                                             \"https://raw.githubusercontent.com/PacktWorkshops/The-Reinforcement-Learning-Workshop/master/Chapter03/Dataset/auto-mpg.data\")\n",
    "\n",
    "        self.dataset = pd.read_csv(self.dataset_path, names=['MPG','Cylinders','Displacement','Horsepower','Weight',\n",
    "                             'Acceleration', 'Model Year', 'Origin'], na_values = \"?\", comment='\\t',\n",
    "                                       sep=\" \", skipinitialspace=True)\n",
    "\n",
    "        self.dataset = self.dataset.dropna()\n",
    "        self.dataset['Origin'] = self.dataset['Origin'].map({1: 'USA', 2: 'Europe', 3: 'Japan'})\n",
    "        self.dataset = pd.get_dummies(self.dataset, prefix='', prefix_sep='')\n",
    "        \n",
    "        self.train_dataset = self.dataset.sample(frac=0.8,random_state=0)\n",
    "        self.test_dataset = self.dataset.drop(self.train_dataset.index)\n",
    "        \n",
    "        self.train_stats = self.train_dataset.describe()\n",
    "        self.train_stats.pop(\"MPG\")\n",
    "        self.train_stats = self.train_stats.transpose()\n",
    "        \n",
    "        self.train_labels = self.train_dataset.pop('MPG')\n",
    "        self.test_labels = self.test_dataset.pop('MPG')\n",
    "\n",
    "        self.normed_train_data = (self.train_dataset - self.train_stats['mean']) / self.train_stats['std']\n",
    "        self.normed_test_data = (self.test_dataset - self.train_stats['mean']) / self.train_stats['std']\n",
    "\n",
    "    def test_dataset_df(self):\n",
    "        pd_testing.assert_frame_equal(self.exercises.dataset, self.dataset)\n",
    "        \n",
    "    def test_train_dataset_df(self):\n",
    "        pd_testing.assert_frame_equal(self.exercises.train_dataset, self.train_dataset)\n",
    "        \n",
    "    def test_test_dataset_df(self):\n",
    "        pd_testing.assert_frame_equal(self.exercises.test_dataset, self.test_dataset)\n",
    "    \n",
    "    def test_train_labels_df(self):\n",
    "        pd_testing.assert_series_equal(self.exercises.train_labels, self.train_labels)\n",
    "        \n",
    "    def test_test_labels_df(self):\n",
    "        pd_testing.assert_series_equal(self.exercises.test_labels, self.test_labels)\n",
    "        \n",
    "    def test_normed_train_data_df(self):\n",
    "        pd_testing.assert_frame_equal(self.exercises.normed_train_data, self.normed_train_data)\n",
    "        \n",
    "    def test_normed_test_data_df(self):\n",
    "        pd_testing.assert_frame_equal(self.exercises.normed_test_data, self.normed_test_data)\n",
    "        \n",
    "    def test_mae(self):\n",
    "        self.assertEqual(self.exercises.mae < 2.5, True)\n",
    "\n"
   ]
  },
  {
   "cell_type": "code",
   "execution_count": null,
   "metadata": {},
   "outputs": [],
   "source": [
    "suite = unittest.TestLoader().loadTestsFromTestCase(TestExercise03_05)\n",
    "unittest.TextTestRunner(verbosity=2).run(suite)"
   ]
  }
 ],
 "metadata": {
  "kernelspec": {
   "display_name": "Python 3",
   "language": "python",
   "name": "python3"
  },
  "language_info": {
   "codemirror_mode": {
    "name": "ipython",
    "version": 3
   },
   "file_extension": ".py",
   "mimetype": "text/x-python",
   "name": "python",
   "nbconvert_exporter": "python",
   "pygments_lexer": "ipython3",
   "version": "3.7.4"
  }
 },
 "nbformat": 4,
 "nbformat_minor": 4
}
