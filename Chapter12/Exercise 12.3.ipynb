{
 "cells": [
  {
   "cell_type": "code",
   "execution_count": null,
   "metadata": {
    "collapsed": true
   },
   "outputs": [],
   "source": [
    "import tensorflow as tf\n",
    "import tensorflow_probability as tfp\n",
    "import random\n"
   ]
  },
  {
   "cell_type": "code",
   "execution_count": null,
   "outputs": [],
   "source": [
    "# Define function x**2-8*x+y**2+3*y\n",
    "def funct(x,y):\n",
    "    return x**2-8*x+y**2+3*y"
   ],
   "metadata": {
    "collapsed": false,
    "pycharm": {
     "name": "#%%\n"
    }
   }
  },
  {
   "cell_type": "code",
   "execution_count": null,
   "outputs": [],
   "source": [
    "# Compute population from a uniform distribution\n",
    "size = 100\n",
    "initial_population = (tf.random.uniform([size]), tf.random.uniform([size]))"
   ],
   "metadata": {
    "collapsed": false,
    "pycharm": {
     "name": "#%%\n"
    }
   }
  },
  {
   "cell_type": "code",
   "execution_count": null,
   "outputs": [],
   "source": [
    "optimiser = tfp.optimizer.differential_evolution_minimize(funct, initial_population= initial_population, seed=879879)\n",
    "print('Final solution: z={:.1f}, x={:.1f}, y={:.1f}'.format(optimiser.objective_value.numpy(),\n",
    "                                                            optimiser.position[0].numpy(),\n",
    "                                                            optimiser.position[1].numpy()))\n"
   ],
   "metadata": {
    "collapsed": false,
    "pycharm": {
     "name": "#%%\n"
    }
   }
  },
  {
   "cell_type": "code",
   "execution_count": null,
   "metadata": {},
   "outputs": [],
   "source": [
    "optimiser = tfp.optimizer.differential_evolution_minimize(funct, initial_population= initial_population, seed=879879)\n",
    "print('Final solution: z={:.1f}, x={:.1f}, y={:.1f}'.format(optimiser.objective_value.numpy(),\n",
    "                                                            optimiser.position[0].numpy(),\n",
    "                                                            optimiser.position[1].numpy()))\n"
   ]
  },
  {
   "cell_type": "code",
   "execution_count": null,
   "metadata": {},
   "outputs": [],
   "source": [
    "# Compute population from a uniform distribution\n",
    "size = 100\n",
    "initial_population = (tf.random.uniform([size]), tf.random.uniform([size]))"
   ]
  },
  {
   "cell_type": "code",
   "execution_count": null,
   "metadata": {},
   "outputs": [],
   "source": [
    "optimiser = tfp.optimizer.differential_evolution_minimize(funct, initial_population= initial_population, seed=879879)\n",
    "print('Final solution: z={:.1f}, x={:.1f}, y={:.1f}'.format(optimiser.objective_value.numpy(),\n",
    "                                                            optimiser.position[0].numpy(),\n",
    "                                                            optimiser.position[1].numpy()))\n"
   ]
  }
 ],
 "metadata": {
  "kernelspec": {
   "display_name": "Python 3",
   "language": "python",
   "name": "python3"
  },
  "language_info": {
   "codemirror_mode": {
    "name": "ipython",
    "version": 3
   },
   "file_extension": ".py",
   "mimetype": "text/x-python",
   "name": "python",
   "nbconvert_exporter": "python",
   "pygments_lexer": "ipython3",
   "version": "3.7.3"
  }
 },
 "nbformat": 4,
 "nbformat_minor": 1
}