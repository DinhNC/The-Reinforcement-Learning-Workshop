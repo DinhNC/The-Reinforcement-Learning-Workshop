{
 "cells": [
  {
   "cell_type": "code",
   "execution_count": 1,
   "metadata": {},
   "outputs": [],
   "source": [
    "# Import libraries\n",
    "import tensorflow as tf\n",
    "import tensorflow_probability as tfp\n"
   ]
  },
  {
   "cell_type": "code",
   "execution_count": 2,
   "metadata": {},
   "outputs": [],
   "source": [
    "def funct(x,y):\n",
    "    return x**2-8*x+y**2+3*y"
   ]
  },
  {
   "cell_type": "code",
   "execution_count": 3,
   "metadata": {},
   "outputs": [],
   "source": [
    "# Identify starting point\n",
    "initial_position = (tf.Variable(5.0), tf.Variable(10.0))"
   ]
  },
  {
   "cell_type": "code",
   "execution_count": 4,
   "metadata": {},
   "outputs": [],
   "source": [
    "# Compute optimiser using a single starting value set\n",
    "optimiser = tfp.optimizer.differential_evolution_minimize(funct, initial_position = initial_position,\n",
    "                                                           population_size = 100, population_stddev = 1.5,\n",
    "                                                           seed = 879879)\n"
   ]
  },
  {
   "cell_type": "code",
   "execution_count": 5,
   "metadata": {},
   "outputs": [
    {
     "name": "stdout",
     "output_type": "stream",
     "text": [
      "Final solution: z=-18.2, x=4.0, y=-1.5\n"
     ]
    }
   ],
   "source": [
    "print('Final solution: z={:.1f}, x={:.1f}, y={:.1f}'.format(optimiser.objective_value.numpy(),\n",
    "                                                            optimiser.position[0].numpy(),\n",
    "                                                            optimiser.position[1].numpy()))"
   ]
  },
  {
   "cell_type": "code",
   "execution_count": 38,
   "metadata": {},
   "outputs": [],
   "source": [
    "import unittest\n",
    "\n",
    "class TestEx12_2(unittest.TestCase):\n",
    "    def test_funct(self):\n",
    "        print(\"Testing loss function\")\n",
    "        result = funct(1,5)\n",
    "        self.assertEqual(result, 33)\n",
    "        self.assertEqual(initial_position[0].numpy(), 5)\n",
    "        self.assertEqual(initial_position[1].numpy(), 10)\n",
    "        self.assertNotEqual(optimiser.objective_value.numpy(), -18.2)\n",
    "        self.assertEqual(round(optimiser.position[0].numpy(),1), 4)\n",
    "        self.assertEqual(round(optimiser.position[1].numpy(),1), -1.5)\n",
    "        \n",
    "        \n",
    "        "
   ]
  },
  {
   "cell_type": "code",
   "execution_count": 39,
   "metadata": {},
   "outputs": [
    {
     "name": "stderr",
     "output_type": "stream",
     "text": [
      "test_funct (__main__.TestEx12_2) ... "
     ]
    },
    {
     "name": "stdout",
     "output_type": "stream",
     "text": [
      "Testing loss function\n"
     ]
    },
    {
     "name": "stderr",
     "output_type": "stream",
     "text": [
      "ok\n",
      "\n",
      "----------------------------------------------------------------------\n",
      "Ran 1 test in 0.002s\n",
      "\n",
      "OK\n"
     ]
    },
    {
     "data": {
      "text/plain": [
       "<unittest.runner.TextTestResult run=1 errors=0 failures=0>"
      ]
     },
     "execution_count": 39,
     "metadata": {},
     "output_type": "execute_result"
    }
   ],
   "source": [
    "suite = unittest.TestLoader().loadTestsFromTestCase(TestEx12_2)\n",
    "unittest.TextTestRunner(verbosity=2).run(suite)"
   ]
  }
 ],
 "metadata": {
  "kernelspec": {
   "display_name": "Python 3",
   "language": "python",
   "name": "python3"
  },
  "language_info": {
   "codemirror_mode": {
    "name": "ipython",
    "version": 3
   },
   "file_extension": ".py",
   "mimetype": "text/x-python",
   "name": "python",
   "nbconvert_exporter": "python",
   "pygments_lexer": "ipython3",
   "version": "3.7.3"
  }
 },
 "nbformat": 4,
 "nbformat_minor": 1
}
