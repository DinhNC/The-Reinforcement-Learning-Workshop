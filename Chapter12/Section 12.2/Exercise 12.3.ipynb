{
 "cells": [
  {
   "cell_type": "code",
   "execution_count": 8,
   "metadata": {},
   "outputs": [],
   "source": [
    "import tensorflow as tf\n",
    "import tensorflow_probability as tfp\n",
    "import random\n"
   ]
  },
  {
   "cell_type": "code",
   "execution_count": 9,
   "metadata": {
    "pycharm": {
     "name": "#%%\n"
    }
   },
   "outputs": [],
   "source": [
    "# Define function x**2-8*x+y**2+3*y\n",
    "def funct(x,y):\n",
    "    return x**2-8*x+y**2+3*y"
   ]
  },
  {
   "cell_type": "code",
   "execution_count": 10,
   "metadata": {
    "pycharm": {
     "name": "#%%\n"
    }
   },
   "outputs": [],
   "source": [
    "# Compute population from a uniform distribution\n",
    "size = 100\n",
    "initial_population = (tf.random.uniform([size]), tf.random.uniform([size]))"
   ]
  },
  {
   "cell_type": "code",
   "execution_count": 11,
   "metadata": {
    "pycharm": {
     "name": "#%%\n"
    }
   },
   "outputs": [
    {
     "name": "stdout",
     "output_type": "stream",
     "text": [
      "Final solution: z=-18.2, x=4.0, y=-1.5\n"
     ]
    }
   ],
   "source": [
    "optimiser = tfp.optimizer.differential_evolution_minimize(funct, initial_population= initial_population, seed=879879)\n",
    "print('Final solution: z={:.1f}, x={:.1f}, y={:.1f}'.format(optimiser.objective_value.numpy(),\n",
    "                                                            optimiser.position[0].numpy(),\n",
    "                                                            optimiser.position[1].numpy()))\n"
   ]
  },
  {
   "cell_type": "code",
   "execution_count": 12,
   "metadata": {},
   "outputs": [],
   "source": [
    "import unittest\n",
    "\n",
    "class TestEx12_3(unittest.TestCase):\n",
    "    def test_funct(self):\n",
    "        print(\"Testing loss function\")\n",
    "        result = funct(1,5)\n",
    "        self.assertEqual(result, 33)\n",
    "        self.assertNotEqual(optimiser.objective_value.numpy(), -18.2)\n",
    "        self.assertEqual(round(optimiser.position[0].numpy(),1), 4)\n",
    "        self.assertEqual(round(optimiser.position[1].numpy(),1), -1.5)\n",
    "        \n"
   ]
  },
  {
   "cell_type": "code",
   "execution_count": 13,
   "metadata": {},
   "outputs": [
    {
     "name": "stderr",
     "output_type": "stream",
     "text": [
      "test_funct (__main__.TestEx12_3) ... "
     ]
    },
    {
     "name": "stdout",
     "output_type": "stream",
     "text": [
      "Testing loss function\n"
     ]
    },
    {
     "name": "stderr",
     "output_type": "stream",
     "text": [
      "ok\n",
      "\n",
      "----------------------------------------------------------------------\n",
      "Ran 1 test in 0.003s\n",
      "\n",
      "OK\n"
     ]
    },
    {
     "data": {
      "text/plain": [
       "<unittest.runner.TextTestResult run=1 errors=0 failures=0>"
      ]
     },
     "execution_count": 13,
     "metadata": {},
     "output_type": "execute_result"
    }
   ],
   "source": [
    "suite = unittest.TestLoader().loadTestsFromTestCase(TestEx12_3)\n",
    "unittest.TextTestRunner(verbosity=2).run(suite)"
   ]
  }
 ],
 "metadata": {
  "kernelspec": {
   "display_name": "Python 3",
   "language": "python",
   "name": "python3"
  },
  "language_info": {
   "codemirror_mode": {
    "name": "ipython",
    "version": 3
   },
   "file_extension": ".py",
   "mimetype": "text/x-python",
   "name": "python",
   "nbconvert_exporter": "python",
   "pygments_lexer": "ipython3",
   "version": "3.7.3"
  }
 },
 "nbformat": 4,
 "nbformat_minor": 1
}
