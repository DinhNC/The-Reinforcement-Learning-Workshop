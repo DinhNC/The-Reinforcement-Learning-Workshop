{
 "cells": [
  {
   "cell_type": "code",
   "execution_count": null,
   "metadata": {
    "collapsed": true
   },
   "outputs": [],
   "source": [
    "#import packages\n",
    "from __future__ import print_function\n",
    "import os\n",
    "import neat"
   ]
  },
  {
   "cell_type": "code",
   "execution_count": null,
   "metadata": {},
   "outputs": [],
   "source": [
    "#initilise inputs and outputs for the XNOR gate\n",
    "\n",
    "xnor_inputs = [(0.0, 0.0), (0.0, 1.0), (1.0, 0.0), (1.0, 1.0)]\n",
    "xnor_output = [(1.0,),(0.0,),(0.0,),(1.0,)]"
   ]
  },
  {
   "cell_type": "code",
   "execution_count": null,
   "metadata": {},
   "outputs": [],
   "source": [
    "#create a fitness function for evaluating the chromosomes for a feed forward neural network\n",
    "\n",
    "def fitness_function(chromosomes, configuration):\n",
    "    for ch_id, chromosome in chromosomes:\n",
    "        chromosome.fitness = 4.0\n",
    "        neural_net = neat.nn.FeedForwardNetwork.create(chromosome, configuration)\n",
    "        for xnor_i,xnor_o in zip(xnor_inputs, xnor_output):\n",
    "            output = neural_net.activate(xnor_i)\n",
    "            squared_diff = (output[0] - xnor_o[0])**2\n",
    "            chromosome.fitness -= squared_diff\n"
   ]
  },
  {
   "cell_type": "code",
   "execution_count": null,
   "metadata": {},
   "outputs": [],
   "source": [
    "#load configuration\n",
    "configuration = neat.Config(neat.DefaultGenome, neat.DefaultReproduction, neat.DefaultSpeciesSet,\n",
    "                     neat.DefaultStagnation,\"/../config-feedforward-xnor\" )\n",
    "print(\"Output of file configuration:\", configuration)"
   ]
  },
  {
   "cell_type": "code",
   "execution_count": null,
   "metadata": {},
   "outputs": [],
   "source": [
    "#load the population size\n",
    "pop = neat.Population(configuration)"
   ]
  },
  {
   "cell_type": "code",
   "execution_count": null,
   "metadata": {},
   "outputs": [],
   "source": [
    "#add output for progress in terminal\n",
    "pop.add_reporter(neat.StdOutReporter(True))\n",
    "statistics = neat.StatisticsReporter()\n",
    "pop.add_reporter(statistics)\n",
    "pop.add_reporter(neat.Checkpointer(5))"
   ]
  },
  {
   "cell_type": "code",
   "execution_count": null,
   "metadata": {},
   "outputs": [],
   "source": [
    "#run for 500 generations using\n",
    "best = pop.run(fitness_function, 200)\n",
    "#display the best chromosome\n",
    "print('\\n Best chromosome:\\n{!s}'.format(best))"
   ]
  },
  {
   "cell_type": "code",
   "execution_count": null,
   "outputs": [],
   "source": [
    "#show output of the most fit chromosome against the data\n",
    "print('\\n Output:')\n",
    "best_network = neat.nn.FeedForwardNetwork.create(best, configuration)\n",
    "for xnor_i, xnor_o in zip(xnor_inputs, xnor_output):\n",
    "    output = best_network.activate(xnor_i)\n",
    "    print(\"input{!r}, expected output {!r}, got: {:.1f}\".format(xnor_i,xnor_o,output[0]))"
   ],
   "metadata": {
    "collapsed": false,
    "pycharm": {
     "name": "#%%\n"
    }
   }
  },
  {
   "cell_type": "code",
   "execution_count": null,
   "metadata": {},
   "outputs": [],
   "source": [
    "#show output of the most fit chromosome against the data\n",
    "print('\\n Output:')\n",
    "best_network = neat.nn.FeedForwardNetwork.create(best, configuration)\n",
    "for xnor_i, xnor_o in zip(xnor_inputs, xnor_output):\n",
    "    output = best_network.activate(xnor_i)\n",
    "    print(\"input{!r}, expected output {!r}, got: {:.1f}\".format(xnor_i,xnor_o,output[0]))"
   ]
  }
 ],
 "metadata": {
  "kernelspec": {
   "display_name": "Python 3",
   "language": "python",
   "name": "python3"
  },
  "language_info": {
   "codemirror_mode": {
    "name": "ipython",
    "version": 3
   },
   "file_extension": ".py",
   "mimetype": "text/x-python",
   "name": "python",
   "nbconvert_exporter": "python",
   "pygments_lexer": "ipython3",
   "version": "3.7.3"
  }
 },
 "nbformat": 4,
 "nbformat_minor": 1
}