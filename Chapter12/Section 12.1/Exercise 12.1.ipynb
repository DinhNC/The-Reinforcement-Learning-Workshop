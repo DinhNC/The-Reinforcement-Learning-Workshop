{
 "cells": [
  {
   "cell_type": "code",
   "execution_count": null,
   "metadata": {
    "collapsed": true,
    "pycharm": {
     "is_executing": true
    }
   },
   "outputs": [],
   "source": [
    "#Import libraries\n",
    "import tensorflow as tf\n"
   ]
  },
  {
   "cell_type": "code",
   "execution_count": null,
   "metadata": {},
   "outputs": [],
   "source": [
    "#Define function x**2-8*x+y**2+3*y\n",
    "def funct(x,y):\n",
    "    return x**2-8*x+y**2+3*y"
   ]
  },
  {
   "cell_type": "code",
   "execution_count": null,
   "metadata": {},
   "outputs": [],
   "source": [
    "# Set the initial values for x and y\n",
    "def initialise():\n",
    "    x = tf.Variable(5.0)\n",
    "    y = tf.Variable(10.0)\n",
    "    return x, y\n"
   ]
  },
  {
   "cell_type": "code",
   "execution_count": null,
   "metadata": {},
   "outputs": [],
   "source": [
    "#Initialise variables\n",
    "x, y= initialise()"
   ]
  },
  {
   "cell_type": "code",
   "execution_count": null,
   "metadata": {},
   "outputs": [],
   "source": [
    "# Define optimiser as SGD from keras tensor flow, with learning rate of 0.3\n",
    "optimiser = tf.keras.optimizers.SGD(learning_rate = 0.1)"
   ]
  },
  {
   "cell_type": "code",
   "execution_count": null,
   "metadata": {},
   "outputs": [],
   "source": [
    "for i in range(100):\n",
    "    #use GradientTape as function for processing the gradients\n",
    "    with tf.GradientTape() as tape:\n",
    "        # Calculate loss function using x and y values\n",
    "        loss= funct(x,y)\n",
    "        # Get gradient values\n",
    "        gradients = tape.gradient(loss, [x, y])\n",
    "        # Save gradients in array without altering them\n",
    "        p_gradients = [grad for grad in gradients]\n",
    "        #Agregate gradients to values of x and y using zip function\n",
    "        ag = zip(p_gradients, [x,y])\n",
    "        #Output variables z, x, and y\n",
    "        print('Step={:.1f} , z ={:.1f},x={:.1f},y={:.1f}'.format(i, loss.numpy(), x.numpy(), y.numpy()))\n",
    "        # Update variables by applying gradients\n",
    "        optimiser.apply_gradients(ag)"
   ]
  }
 ],
 "metadata": {
  "kernelspec": {
   "display_name": "Python 3",
   "language": "python",
   "name": "python3"
  },
  "language_info": {
   "codemirror_mode": {
    "name": "ipython",
    "version": 3
   },
   "file_extension": ".py",
   "mimetype": "text/x-python",
   "name": "python",
   "nbconvert_exporter": "python",
   "pygments_lexer": "ipython3",
   "version": "3.7.3"
  }
 },
 "nbformat": 4,
 "nbformat_minor": 1
}