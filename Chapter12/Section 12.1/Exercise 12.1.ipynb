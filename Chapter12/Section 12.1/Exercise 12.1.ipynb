{
 "cells": [
  {
   "cell_type": "code",
   "execution_count": 11,
   "metadata": {
    "pycharm": {
     "is_executing": true
    }
   },
   "outputs": [],
   "source": [
    "#Import libraries\n",
    "import tensorflow as tf\n"
   ]
  },
  {
   "cell_type": "code",
   "execution_count": 12,
   "metadata": {},
   "outputs": [],
   "source": [
    "#Define function x**2-8*x+y**2+3*y\n",
    "def funct(x,y):\n",
    "    return x**2-8*x+y**2+3*y"
   ]
  },
  {
   "cell_type": "code",
   "execution_count": 13,
   "metadata": {},
   "outputs": [],
   "source": [
    "# Set the initial values for x and y\n",
    "def initialise():\n",
    "    x = tf.Variable(5.0)\n",
    "    y = tf.Variable(10.0)\n",
    "    return x, y\n"
   ]
  },
  {
   "cell_type": "code",
   "execution_count": null,
   "metadata": {},
   "outputs": [],
   "source": [
    "#Initialise variables\n",
    "x, y= initialise()"
   ]
  },
  {
   "cell_type": "code",
   "execution_count": null,
   "metadata": {},
   "outputs": [],
   "source": [
    "# Define optimiser as SGD from keras tensor flow, with learning rate of 0.3\n",
    "optimiser = tf.keras.optimizers.SGD(learning_rate = 0.1)"
   ]
  },
  {
   "cell_type": "code",
   "execution_count": null,
   "metadata": {},
   "outputs": [],
   "source": [
    "for i in range(100):\n",
    "    #use GradientTape as function for processing the gradients\n",
    "    with tf.GradientTape() as tape:\n",
    "        # Calculate loss function using x and y values\n",
    "        loss= funct(x,y)\n",
    "        # Get gradient values\n",
    "        gradients = tape.gradient(loss, [x, y])\n",
    "        # Save gradients in array without altering them\n",
    "        p_gradients = [grad for grad in gradients]\n",
    "        #Agregate gradients to values of x and y using zip function\n",
    "        ag = zip(p_gradients, [x,y])\n",
    "        #Output variables z, x, and y\n",
    "        print('Step={:.1f} , z ={:.1f},x={:.1f},y={:.1f}'.format(i, loss.numpy(), x.numpy(), y.numpy()))\n",
    "        # Update variables by applying gradients\n",
    "        optimiser.apply_gradients(ag)"
   ]
  },
  {
   "cell_type": "code",
   "execution_count": 30,
   "metadata": {},
   "outputs": [],
   "source": [
    "import unittest\n",
    "\n",
    "class TestEx12_1(unittest.TestCase):\n",
    "    def test_funct(self):\n",
    "        print(\"Testing loss function\")\n",
    "        result = funct(1,5)\n",
    "        self.assertEquals(result, 33)\n",
    "    \n",
    "    def test_initialise(self):\n",
    "        x, y = initialise()\n",
    "        self.assertEqual(x.numpy(), 5.0)\n",
    "        self.assertEqual(y.numpy(), 10.0)"
   ]
  },
  {
   "cell_type": "code",
   "execution_count": 31,
   "metadata": {},
   "outputs": [
    {
     "name": "stderr",
     "output_type": "stream",
     "text": [
      "test_funct (__main__.TestEx12_1) ... c:\\users\\ac7413\\appdata\\local\\programs\\python\\python37\\lib\\site-packages\\ipykernel_launcher.py:7: DeprecationWarning: Please use assertEqual instead.\n",
      "  import sys\n",
      "ok\n",
      "test_initialise (__main__.TestEx12_1) ... "
     ]
    },
    {
     "name": "stdout",
     "output_type": "stream",
     "text": [
      "Testing loss function\n"
     ]
    },
    {
     "name": "stderr",
     "output_type": "stream",
     "text": [
      "c:\\users\\ac7413\\appdata\\local\\programs\\python\\python37\\lib\\site-packages\\ipykernel_launcher.py:11: DeprecationWarning: Please use assertEqual instead.\n",
      "  # This is added back by InteractiveShellApp.init_path()\n",
      "c:\\users\\ac7413\\appdata\\local\\programs\\python\\python37\\lib\\site-packages\\ipykernel_launcher.py:12: DeprecationWarning: Please use assertEqual instead.\n",
      "  if sys.path[0] == '':\n",
      "ok\n",
      "\n",
      "----------------------------------------------------------------------\n",
      "Ran 2 tests in 0.012s\n",
      "\n",
      "OK\n"
     ]
    },
    {
     "data": {
      "text/plain": [
       "<unittest.runner.TextTestResult run=2 errors=0 failures=0>"
      ]
     },
     "execution_count": 31,
     "metadata": {},
     "output_type": "execute_result"
    }
   ],
   "source": [
    "\n",
    "suite = unittest.TestLoader().loadTestsFromTestCase(TestEx12_1)\n",
    "unittest.TextTestRunner(verbosity=2).run(suite)"
   ]
  }
 ],
 "metadata": {
  "kernelspec": {
   "display_name": "Python 3",
   "language": "python",
   "name": "python3"
  },
  "language_info": {
   "codemirror_mode": {
    "name": "ipython",
    "version": 3
   },
   "file_extension": ".py",
   "mimetype": "text/x-python",
   "name": "python",
   "nbconvert_exporter": "python",
   "pygments_lexer": "ipython3",
   "version": "3.7.3"
  }
 },
 "nbformat": 4,
 "nbformat_minor": 1
}
