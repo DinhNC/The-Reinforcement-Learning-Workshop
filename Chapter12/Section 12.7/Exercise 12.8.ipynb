{
 "cells": [
  {
   "cell_type": "code",
   "execution_count": null,
   "metadata": {
    "collapsed": true
   },
   "outputs": [],
   "source": [
    "import numpy as np\n",
    "import pandas as pd\n",
    "\n",
    "from sklearn.metrics import mean_squared_error\n",
    "from sklearn.model_selection import train_test_split as split\n",
    "from keras.layers import SimpleRNN, Input, Dense\n",
    "from keras.models import Model\n",
    "\n",
    "from deap import base, creator, tools, algorithms\n",
    "from scipy.stats import bernoulli\n",
    "from bitstring import BitArray"
   ]
  },
  {
   "cell_type": "code",
   "execution_count": null,
   "metadata": {},
   "outputs": [],
   "source": [
    "np.random.seed(998)"
   ]
  },
  {
   "cell_type": "code",
   "execution_count": null,
   "metadata": {},
   "outputs": [],
   "source": [
    "#read data from csv\n",
    "data = pd.read_csv('train.csv')\n",
    "#use column wp2\n",
    "data = np.reshape(np.array(data['wp2']), (len(data['wp2']), 1))\n",
    "data = data[0:1500]"
   ]
  },
  {
   "cell_type": "code",
   "execution_count": null,
   "metadata": {},
   "outputs": [],
   "source": [
    "def format_dataset(data, w_size):\n",
    "    #initialise as empty array\n",
    "    X, Y = np.empty((0, w_size)), np.empty(0)\n",
    "    #depending on the window size the data is separated in 2 arrays containing each of the sizes\n",
    "    for i in range(len(data)-w_size-1):\n",
    "        X = np.vstack([X,data[i:(i+w_size),0]])\n",
    "        Y = np.append(Y, data[i+w_size,0])\n",
    "    X = np.reshape(X,(len(X),w_size,1))\n",
    "    Y = np.reshape(Y,(len(Y), 1))\n",
    "    return X, Y\n"
   ]
  },
  {
   "cell_type": "code",
   "execution_count": null,
   "metadata": {},
   "outputs": [],
   "source": [
    "#use GA to identify the optimal window size for the array\n",
    "def training_hyperparameters(ga_optimisation):\n",
    "    #decode GA solution to integer window size and number of units\n",
    "    w_size_bit = BitArray(ga_optimisation[0:6])\n",
    "    n_units_bit = BitArray(ga_optimisation[6:])\n",
    "    w_size = w_size_bit.uint\n",
    "    n_units = n_units_bit.uint\n",
    "    print('\\nWindow Size: ', w_size, '\\nNumber of units: ',n_units)\n",
    "\n",
    "    #return fitness score of 100 if the size or the units are 0\n",
    "    if w_size == 0 or n_units == 0:\n",
    "        return 100\n",
    "\n",
    "    #segment train data on the window size splitting it into 90 train, 10 validation\n",
    "    X,Y = format_dataset(data, w_size)\n",
    "    X_train, X_validate, Y_train, Y_validate = split(X, Y, test_size= 0.10, random_state= 998)\n",
    "\n",
    "    #train RNNSimple model and predict validation set\n",
    "    input_features = Input(shape=(w_size,1))\n",
    "    x = SimpleRNN(n_units,input_shape=(w_size,1))(input_features)\n",
    "    output = Dense(1, activation='linear')(x)\n",
    "    rnnmodel = Model(inputs=input_features, outputs = output)\n",
    "    rnnmodel.compile(optimizer='adam', loss = 'mean_squared_error')\n",
    "    rnnmodel.fit(X_train, Y_train, epochs=5, batch_size=4, shuffle = True)\n",
    "    Y_predict = rnnmodel.predict(X_validate)\n",
    "\n",
    "    # calculate RMSE score as fitness score for GA\n",
    "    RMSE = np.sqrt(mean_squared_error(Y_validate, Y_predict))\n",
    "    print('Validation RMSE: ', RMSE, '\\n')\n",
    "\n",
    "    return RMSE,"
   ]
  },
  {
   "cell_type": "code",
   "execution_count": null,
   "metadata": {},
   "outputs": [],
   "source": [
    "\n",
    "population_size = 4\n",
    "generations = 5\n",
    "gene = 10"
   ]
  },
  {
   "cell_type": "code",
   "execution_count": null,
   "outputs": [],
   "source": [
    "creator.create('FitnessMax', base.Fitness, weights= (-1.0,))\n",
    "creator.create('Individual', list, fitness = creator.FitnessMax)\n",
    "\n",
    "toolbox = base.Toolbox()\n",
    "toolbox.register('bernoulli', bernoulli.rvs, 0.5)\n",
    "toolbox.register('chromosome', tools.initRepeat, creator.Individual, toolbox.bernoulli, n = gene)\n",
    "toolbox.register('population', tools.initRepeat, list, toolbox.chromosome)\n",
    "\n",
    "toolbox.register('mate', tools.cxTwoPoint)\n",
    "toolbox.register('mutate', tools.mutFlipBit, indpb = 0.6)\n",
    "toolbox.register('select', tools.selRandom)\n",
    "toolbox.register('evaluate', training_hyperparameters)\n",
    "\n",
    "population = toolbox.population(n = population_size)\n",
    "algo = algorithms.eaSimple(population,toolbox,cxpb=0.4, mutpb=0.1, ngen=generations, verbose=False)\n"
   ],
   "metadata": {
    "collapsed": false,
    "pycharm": {
     "name": "#%%\n"
    }
   }
  },
  {
   "cell_type": "code",
   "execution_count": null,
   "outputs": [],
   "source": [
    "optimal_chromosome = tools.selBest(population, k = 1)\n",
    "optimal_w_size = None\n",
    "optimal_n_units = None\n",
    "\n",
    "for op in optimal_chromosome:\n",
    "    w_size_bit = BitArray(op[0:6])\n",
    "    n_units_bit = BitArray(op[6:])\n",
    "    optimal_w_size = w_size_bit.uint\n",
    "    optimal_n_units = n_units_bit.uint\n",
    "    print('\\nOptimal window size:', optimal_w_size, '\\n Optimal number of units:', optimal_n_units)"
   ],
   "metadata": {
    "collapsed": false,
    "pycharm": {
     "name": "#%%\n"
    }
   }
  },
  {
   "cell_type": "code",
   "execution_count": null,
   "metadata": {},
   "outputs": [],
   "source": [
    "optimal_chromosome = tools.selBest(population, k = 1)\n",
    "optimal_w_size = None\n",
    "optimal_n_units = None\n",
    "\n",
    "for op in optimal_chromosome:\n",
    "    w_size_bit = BitArray(op[0:6])\n",
    "    n_units_bit = BitArray(op[6:])\n",
    "    optimal_w_size = w_size_bit.uint\n",
    "    optimal_n_units = n_units_bit.uint\n",
    "    print('\\nOptimal window size:', optimal_w_size, '\\n Optimal number of units:', optimal_n_units)"
   ]
  },
  {
   "cell_type": "code",
   "execution_count": null,
   "metadata": {},
   "outputs": [],
   "source": [
    "optimal_chromosome = tools.selBest(population, k = 1)\n",
    "optimal_w_size = None\n",
    "optimal_n_units = None\n",
    "\n",
    "for op in optimal_chromosome:\n",
    "    w_size_bit = BitArray(op[0:6])\n",
    "    n_units_bit = BitArray(op[6:])\n",
    "    optimal_w_size = w_size_bit.uint\n",
    "    optimal_n_units = n_units_bit.uint\n",
    "    print('\\nOptimal window size:', optimal_w_size, '\\n Optimal number of units:', optimal_n_units)"
   ]
  }
 ],
 "metadata": {
  "kernelspec": {
   "display_name": "Python 3",
   "language": "python",
   "name": "python3"
  },
  "language_info": {
   "codemirror_mode": {
    "name": "ipython",
    "version": 3
   },
   "file_extension": ".py",
   "mimetype": "text/x-python",
   "name": "python",
   "nbconvert_exporter": "python",
   "pygments_lexer": "ipython3",
   "version": "3.7.3"
  }
 },
 "nbformat": 4,
 "nbformat_minor": 1
}