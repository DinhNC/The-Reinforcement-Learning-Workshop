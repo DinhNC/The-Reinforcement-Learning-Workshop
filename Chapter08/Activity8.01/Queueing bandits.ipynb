{
 "cells": [
  {
   "cell_type": "code",
   "execution_count": 1,
   "metadata": {},
   "outputs": [],
   "source": [
    "import numpy as np\n",
    "\n",
    "import sys\n",
    "sys.path.append('../')\n",
    "\n",
    "from utils import QueueBandit"
   ]
  },
  {
   "cell_type": "code",
   "execution_count": 2,
   "metadata": {},
   "outputs": [],
   "source": [
    "N_CLASSES = 3\n",
    "\n",
    "queue_bandit = QueueBandit(filename='../data.csv')"
   ]
  },
  {
   "cell_type": "markdown",
   "metadata": {},
   "source": [
    "# Greedy"
   ]
  },
  {
   "cell_type": "code",
   "execution_count": 3,
   "metadata": {},
   "outputs": [],
   "source": [
    "class GreedyQueue:\n",
    "    def __init__(self, n_classes=3):\n",
    "        self.n_classes = n_classes\n",
    "        self.time_history = [[] for _ in range(n_classes)]\n",
    "    \n",
    "    def decide(self, queue_lengths):\n",
    "        for class_ in range(self.n_classes):\n",
    "            if queue_lengths[class_] > 0 and len(self.time_history[class_]) == 0:\n",
    "                return class_\n",
    "            \n",
    "        mean_times = [\n",
    "            np.mean(self.time_history[class_])\n",
    "            if queue_lengths[class_] > 0 else np.inf\n",
    "            for class_ in range(self.n_classes)\n",
    "        ]\n",
    "        \n",
    "        return int(np.random.choice(\n",
    "            np.argwhere(mean_times == np.min(mean_times)).flatten()\n",
    "        ))\n",
    "    \n",
    "    def update(self, class_, time):\n",
    "        self.time_history[class_].append(time)"
   ]
  },
  {
   "cell_type": "code",
   "execution_count": 4,
   "metadata": {},
   "outputs": [
    {
     "name": "stderr",
     "output_type": "stream",
     "text": [
      "100%|██████████| 50/50 [00:00<00:00, 52.04it/s]\n"
     ]
    },
    {
     "data": {
      "image/png": "[encoded data removed]",
      "text/plain": [
       "<Figure size 432x288 with 1 Axes>"
      ]
     },
     "metadata": {
      "needs_background": "light"
     },
     "output_type": "display_data"
    },
    {
     "data": {
      "text/plain": [
       "(1218887.7924350922, 45155.236786598274)"
      ]
     },
     "execution_count": 4,
     "metadata": {},
     "output_type": "execute_result"
    }
   ],
   "source": [
    "cumulative_times = queue_bandit.repeat(\n",
    "    GreedyQueue, [N_CLASSES], visualize_cumulative_times=True\n",
    ")\n",
    "\n",
    "np.max(cumulative_times), np.mean(cumulative_times)"
   ]
  },
  {
   "cell_type": "markdown",
   "metadata": {},
   "source": [
    "# Explore-then-commit"
   ]
  },
  {
   "cell_type": "code",
   "execution_count": 5,
   "metadata": {},
   "outputs": [],
   "source": [
    "class ETCQueue:\n",
    "    def __init__(self, n_classes=3, T=3):\n",
    "        self.n_classes = n_classes\n",
    "        self.T = T\n",
    "        self.time_history = [[] for _ in range(n_classes)]\n",
    "    \n",
    "    def decide(self, queue_lengths):\n",
    "        for class_ in range(self.n_classes):\n",
    "            if queue_lengths[class_] > 0 and len(self.time_history[class_]) < self.T:\n",
    "                return class_\n",
    "            \n",
    "        mean_times = [\n",
    "            np.mean(self.time_history[class_])\n",
    "            if queue_lengths[class_] > 0 else np.inf\n",
    "            for class_ in range(self.n_classes)\n",
    "        ]\n",
    "        \n",
    "        return int(np.random.choice(\n",
    "            np.argwhere(mean_times == np.min(mean_times)).flatten()\n",
    "        ))\n",
    "    \n",
    "    def update(self, class_, time):\n",
    "        self.time_history[class_].append(time)"
   ]
  },
  {
   "cell_type": "code",
   "execution_count": 6,
   "metadata": {
    "scrolled": false
   },
   "outputs": [
    {
     "name": "stderr",
     "output_type": "stream",
     "text": [
      "100%|██████████| 50/50 [00:00<00:00, 50.77it/s]\n"
     ]
    },
    {
     "data": {
      "image/png": "[encoded data removed]",
      "text/plain": [
       "<Figure size 432x288 with 1 Axes>"
      ]
     },
     "metadata": {
      "needs_background": "light"
     },
     "output_type": "display_data"
    },
    {
     "data": {
      "text/plain": [
       "(1238591.3208636027, 45909.77140562623)"
      ]
     },
     "execution_count": 6,
     "metadata": {},
     "output_type": "execute_result"
    }
   ],
   "source": [
    "cumulative_times = queue_bandit.repeat(\n",
    "    ETCQueue, [N_CLASSES, 2], visualize_cumulative_times=True\n",
    ")\n",
    "\n",
    "np.max(cumulative_times), np.mean(cumulative_times)"
   ]
  },
  {
   "cell_type": "markdown",
   "metadata": {},
   "source": [
    "# Thompson sampling"
   ]
  },
  {
   "cell_type": "code",
   "execution_count": 7,
   "metadata": {},
   "outputs": [],
   "source": [
    "class ExpThSQueue:\n",
    "    def __init__(self, n_classes=3):\n",
    "        self.n_classes = n_classes\n",
    "        self.time_history = [[] for _ in range(n_classes)]\n",
    "        self.temp_beliefs = [(0, 0) for _ in range(n_classes)]\n",
    "        \n",
    "    def decide(self, queue_lengths):\n",
    "        for class_ in range(self.n_classes):\n",
    "            if queue_lengths[class_] > 0 and len(self.time_history[class_]) == 0:\n",
    "                return class_\n",
    "        \n",
    "        rate_draws = [\n",
    "            np.random.gamma(\n",
    "                self.temp_beliefs[class_][0],\n",
    "                1 / self.temp_beliefs[class_][1]\n",
    "            )\n",
    "            if queue_lengths[class_] > 0 else -np.inf\n",
    "            for class_ in range(self.n_classes)\n",
    "        ]\n",
    "        \n",
    "        return int(np.random.choice(\n",
    "            np.argwhere(rate_draws == np.max(rate_draws)).flatten()\n",
    "        ))\n",
    "            \n",
    "    def update(self, class_, time):\n",
    "        self.time_history[class_].append(time)\n",
    "        \n",
    "        # Update parameters according to Bayes rule\n",
    "        alpha, beta = self.temp_beliefs[class_]\n",
    "        alpha += 1\n",
    "        beta += time\n",
    "        self.temp_beliefs[class_] = alpha, beta"
   ]
  },
  {
   "cell_type": "code",
   "execution_count": 8,
   "metadata": {},
   "outputs": [
    {
     "name": "stderr",
     "output_type": "stream",
     "text": [
      "100%|██████████| 50/50 [00:00<00:00, 57.58it/s]\n"
     ]
    },
    {
     "data": {
      "image/png": "[encoded data removed]",
      "text/plain": [
       "<Figure size 432x288 with 1 Axes>"
      ]
     },
     "metadata": {
      "needs_background": "light"
     },
     "output_type": "display_data"
    },
    {
     "data": {
      "text/plain": [
       "(1218887.7924350922, 45129.343871806814)"
      ]
     },
     "execution_count": 8,
     "metadata": {},
     "output_type": "execute_result"
    }
   ],
   "source": [
    "cumulative_times = queue_bandit.repeat(\n",
    "    ExpThSQueue, [N_CLASSES], visualize_cumulative_times=True\n",
    ")\n",
    "\n",
    "np.max(cumulative_times), np.mean(cumulative_times)"
   ]
  },
  {
   "cell_type": "markdown",
   "metadata": {},
   "source": [
    "# Exploiting ThS"
   ]
  },
  {
   "cell_type": "code",
   "execution_count": 9,
   "metadata": {},
   "outputs": [],
   "source": [
    "class ExploitingThSQueue:\n",
    "    def __init__(self, n_classes=3, r=1):\n",
    "        self.n_classes = n_classes\n",
    "        self.time_history = [[] for _ in range(n_classes)]\n",
    "        self.temp_beliefs = [(0, 0) for _ in range(n_classes)]\n",
    "        self.t = 0\n",
    "        self.r = r\n",
    "        \n",
    "    def decide(self, queue_lengths):\n",
    "        for class_ in range(self.n_classes):\n",
    "            if queue_lengths[class_] > 0 and len(self.time_history[class_]) == 0:\n",
    "                return class_\n",
    "            \n",
    "        if self.t > self.r * np.sum(queue_lengths):\n",
    "            mean_times = [\n",
    "                np.mean(self.time_history[class_])\n",
    "                if queue_lengths[class_] > 0 else np.inf\n",
    "                for class_ in range(self.n_classes)\n",
    "            ]\n",
    "\n",
    "            return int(np.random.choice(\n",
    "                np.argwhere(mean_times == np.min(mean_times)).flatten()\n",
    "            ))\n",
    "        \n",
    "        rate_draws = [\n",
    "            np.random.gamma(\n",
    "                self.temp_beliefs[class_][0],\n",
    "                1 / self.temp_beliefs[class_][1]\n",
    "            )\n",
    "            if queue_lengths[class_] > 0 else -np.inf\n",
    "            for class_ in range(self.n_classes)\n",
    "        ]\n",
    "        \n",
    "        return int(np.random.choice(\n",
    "            np.argwhere(rate_draws == np.max(rate_draws)).flatten()\n",
    "        ))\n",
    "            \n",
    "    def update(self, class_, time):\n",
    "        self.time_history[class_].append(time)\n",
    "        self.t += 1\n",
    "        \n",
    "        # Update parameters according to Bayes rule\n",
    "        alpha, beta = self.temp_beliefs[class_]\n",
    "        alpha += 1\n",
    "        beta += time\n",
    "        self.temp_beliefs[class_] = alpha, beta"
   ]
  },
  {
   "cell_type": "code",
   "execution_count": 10,
   "metadata": {
    "scrolled": false
   },
   "outputs": [
    {
     "name": "stderr",
     "output_type": "stream",
     "text": [
      "100%|██████████| 50/50 [00:01<00:00, 42.40it/s]\n"
     ]
    },
    {
     "data": {
      "image/png": "[encoded data removed]",
      "text/plain": [
       "<Figure size 432x288 with 1 Axes>"
      ]
     },
     "metadata": {
      "needs_background": "light"
     },
     "output_type": "display_data"
    },
    {
     "data": {
      "text/plain": [
       "(1218887.7924350922, 45093.244027644556)"
      ]
     },
     "execution_count": 10,
     "metadata": {},
     "output_type": "execute_result"
    }
   ],
   "source": [
    "cumulative_times = queue_bandit.repeat(\n",
    "    ExploitingThSQueue, [N_CLASSES, 1], visualize_cumulative_times=True\n",
    ")\n",
    "\n",
    "np.max(cumulative_times), np.mean(cumulative_times)"
   ]
  },
  {
   "cell_type": "code",
   "execution_count": null,
   "metadata": {},
   "outputs": [],
   "source": []
  }
 ],
 "metadata": {
  "kernelspec": {
   "display_name": "Python 3",
   "language": "python",
   "name": "python3"
  },
  "language_info": {
   "codemirror_mode": {
    "name": "ipython",
    "version": 3
   },
   "file_extension": ".py",
   "mimetype": "text/x-python",
   "name": "python",
   "nbconvert_exporter": "python",
   "pygments_lexer": "ipython3",
   "version": "3.8.2"
  }
 },
 "nbformat": 4,
 "nbformat_minor": 4
}
